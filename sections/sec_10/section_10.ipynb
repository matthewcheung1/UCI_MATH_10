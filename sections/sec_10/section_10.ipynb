{
 "cells": [
  {
   "cell_type": "markdown",
   "metadata": {
    "slideshow": {
     "slide_type": "slide"
    }
   },
   "source": [
    "# Section 10 Introduction to Machine Learning and Linear Regression"
   ]
  },
  {
   "cell_type": "markdown",
   "metadata": {},
   "source": [
    "## Motivating Example I: Single-variable (1D) Linear Regression\n",
    "\n",
    "### **Problem**\n",
    "Given the *training dataset* $\\left(x^{(i)}\\in\\mathbb{R},y^{(i)}\\in\\mathbb{R}\\right)$, $i= 1,2,..., N$ (in other words the $x$-values and $y$-values are real numbers), we want to find the linear function $$y\\approx f(x)=wx +b$$ that fits the relations between $x^{(i)}$ and $y^{(i)}$. So that given any new $x^{test}$ in the **test** dataset, we can make the prediction $$y^{pred} = w x^{test}+b$$\n",
    "\n",
    "### Training the model\n",
    "\n",
    "- With the training dataset, define the loss function $L(w,b)$ of parameter $w$ and $b$, which is also called **mean squared error** (MSE) $$L(w,b)=\\frac{1}{N}\\sum_{i=1}^N\\big(\\hat{y}^{(i)}-y^{(i)}\\big)^2=\\frac{1}{N}\\sum_{i=1}^N\\big((wx^{(i)}+b)-y^{(i)}\\big)^2,$$ where $\\hat{y}^{(i)}$ denotes the predicted value of y at $x^{(i)}$, i.e. $\\hat{y}^{(i)} = wx^{(i)}+b$.\n",
    "\n",
    "\n",
    "- Then find the minimum of loss function. Note $L(w,b)$ is a quadratic function of $w$ and $b$, and we can analytically solve $\\partial_{w}L = \\partial_{b}L =0$ (exactly the same as finding the minimum in multivariable calculus -- Math 2D), and yields\n",
    "\n",
    "$$ w^* =\\frac{\\sum_{i=1}^{N}(x^{(i)}-\\bar{x})(y^{(i)}-\\bar{y})}{\\sum_{i=1}^{N}(x^{(i)}-\\bar{x})^{2}} = \\frac{\\frac{1}{N}\\sum_{i=1}^{N}(x^{(i)}-\\bar{x})(y^{(i)}-\\bar{y})}{\\frac{1}{N}\\sum_{i=1}^{N}(x^{(i)}-\\bar{x})^{2}} = \\frac{\\text{Cov}(X,Y)}{\\text{Var}(X)},$$\n",
    "\n",
    "$$ b^* = \\bar{y}  - w^*\\bar{x},$$\n",
    "\n",
    "where $\\bar{x}$ and $\\bar{y}$ are the mean of $x$ and of $y$, and $\\text{Cov}(X,Y)$ denotes the estimated covariance (or called sample covariance) between $X$ and $Y$ (a little difference with what you learn in statistics is that we have the normalization factor $1/N$ instead of $1/(N-1)$ here), and $\\text{Var}(Y)$ denotes the sample variance of $Y$ (the normalization factor is still $1/N$). This is just about convention -- in statistics, they pursue the unbiased estimator.)\n",
    "\n",
    "### Evaluating the model\n",
    "\n",
    "- MSE: The smaller MSE indicates better performance\n",
    "- R-Squared: The larger $R^{2}$ (closer to 1) indicates better performance. Compared with MSE, R-squared is **dimensionless**, not dependent on the units of variable. \n",
    "\n",
    "$$R^2 = \\frac{\\text{Var}(Y) - \\text{MSE}}{\\text{Var}(Y)}$$\n",
    "\n",
    "The above calculation is a theoretical explanation for $R^2$. The equation below is for simpler calculation.\n",
    "\n",
    "$$R^{2} = 1 - \\frac{\\sum_{i=1}^{N}(y^{(i)}-\\hat{y}^{(i)})^{2}}{\\sum_{i=1}^{N}(y^{(i)}-\\bar{y})^{2}} = 1 - \\frac{\\frac{1}{N}\\sum_{i=1}^{N}(y^{(i)}-\\hat{y}^{(i)})^{2}}{\\frac{1}{N}\\sum_{i=1}^{N}(y^{(i)}-\\bar{y})^{2}} = 1 - \\frac{\\text{MSE}}{\\text{Var}(Y)}$$"
   ]
  },
  {
   "cell_type": "code",
   "execution_count": 2,
   "metadata": {},
   "outputs": [],
   "source": [
    "import numpy as np\n",
    "\n",
    "class MyLinearRegression1D:\n",
    "    '''\n",
    "    The single-variable linear regression estimator -- writing in the style of sklearn package\n",
    "    '''\n",
    "        \n",
    "    def fit(self, x, y):\n",
    "        '''\n",
    "        Determine the optimal parameters w, b for the input data x and y\n",
    "        \n",
    "        Parameters\n",
    "        ----------\n",
    "           x : 1D numpy array with shape (n_samples,) from training data\n",
    "           y : 1D numpy array with shape (n_samples,) from training data\n",
    "        \n",
    "        Returns\n",
    "        -------\n",
    "        self : returns an instance of self, with new attributes slope w (float) and intercept b (float)\n",
    "         '''\n",
    "        \n",
    "        cov_mat = np.cov(x,y,bias=True) # covariance matrix, bias = True makes the factor is 1/N -- but it doesn't matter actually, since the factor will be cancelled\n",
    "        #array of form [[Var(x), Cov(x,y)],\n",
    "        #                [Cov(x,y, Var(y))]]\n",
    "        self.w = cov_mat[0,1] / cov_mat[0,0] # the (0,1) element is COV(X,Y) and (0,0) element is Var(X). (1,1) is Var(Y)\n",
    "        self.b =  np.mean(y)-self.w * np.mean(x)\n",
    "        \n",
    "    def predict(self,x):\n",
    "        '''\n",
    "        Predict the output values for the input value x, based on trained parameters\n",
    "        \n",
    "        Parameters\n",
    "        ----------\n",
    "           x : 1D numpy array from training or test data \n",
    "        \n",
    "        Returns\n",
    "        -------\n",
    "        returns 1D numpy array of same shape as input, the predicted y value of corresponding x\n",
    "        '''\n",
    "        \n",
    "        return self.w*x+self.b\n",
    "    \n",
    "    def score(self, x, y):\n",
    "        '''\n",
    "        Calculate the R-squared on the dataset with input x and y\n",
    "        \n",
    "        Parameters\n",
    "        ----------\n",
    "           x : 1D numpy array with shape (n_samples,) from training or test data\n",
    "           y : 1D numpy array with shape (n_samples,) from training or test data\n",
    "        \n",
    "        Returns\n",
    "        -------\n",
    "        returns float, the R^2 value\n",
    "        '''\n",
    "        \n",
    "        y_hat = self.predict (x) # predicted y\n",
    "        mse = np.mean((y-y_hat)**2) # mean squared error\n",
    "        return 1- mse / np.var(y) # return R-squared\n",
    "    \n",
    "    "
   ]
  },
  {
   "cell_type": "code",
   "execution_count": 3,
   "metadata": {},
   "outputs": [
    {
     "data": {
      "text/html": [
       "<div>\n",
       "<style scoped>\n",
       "    .dataframe tbody tr th:only-of-type {\n",
       "        vertical-align: middle;\n",
       "    }\n",
       "\n",
       "    .dataframe tbody tr th {\n",
       "        vertical-align: top;\n",
       "    }\n",
       "\n",
       "    .dataframe thead th {\n",
       "        text-align: right;\n",
       "    }\n",
       "</style>\n",
       "<table border=\"1\" class=\"dataframe\">\n",
       "  <thead>\n",
       "    <tr style=\"text-align: right;\">\n",
       "      <th></th>\n",
       "      <th>id</th>\n",
       "      <th>date</th>\n",
       "      <th>price</th>\n",
       "      <th>bedrooms</th>\n",
       "      <th>bathrooms</th>\n",
       "      <th>sqft_living</th>\n",
       "      <th>sqft_lot</th>\n",
       "      <th>floors</th>\n",
       "      <th>waterfront</th>\n",
       "      <th>view</th>\n",
       "      <th>...</th>\n",
       "      <th>grade</th>\n",
       "      <th>sqft_above</th>\n",
       "      <th>sqft_basement</th>\n",
       "      <th>yr_built</th>\n",
       "      <th>yr_renovated</th>\n",
       "      <th>zipcode</th>\n",
       "      <th>lat</th>\n",
       "      <th>long</th>\n",
       "      <th>sqft_living15</th>\n",
       "      <th>sqft_lot15</th>\n",
       "    </tr>\n",
       "  </thead>\n",
       "  <tbody>\n",
       "    <tr>\n",
       "      <th>7086</th>\n",
       "      <td>2571910380</td>\n",
       "      <td>20140605T000000</td>\n",
       "      <td>289000.0</td>\n",
       "      <td>3</td>\n",
       "      <td>2.00</td>\n",
       "      <td>1680</td>\n",
       "      <td>8424</td>\n",
       "      <td>1.0</td>\n",
       "      <td>0</td>\n",
       "      <td>0</td>\n",
       "      <td>...</td>\n",
       "      <td>7</td>\n",
       "      <td>1680</td>\n",
       "      <td>0</td>\n",
       "      <td>1993</td>\n",
       "      <td>0</td>\n",
       "      <td>98022</td>\n",
       "      <td>47.1969</td>\n",
       "      <td>-122.011</td>\n",
       "      <td>1990</td>\n",
       "      <td>8545</td>\n",
       "    </tr>\n",
       "    <tr>\n",
       "      <th>8287</th>\n",
       "      <td>4310701577</td>\n",
       "      <td>20140509T000000</td>\n",
       "      <td>382000.0</td>\n",
       "      <td>3</td>\n",
       "      <td>3.25</td>\n",
       "      <td>1410</td>\n",
       "      <td>1253</td>\n",
       "      <td>3.0</td>\n",
       "      <td>0</td>\n",
       "      <td>0</td>\n",
       "      <td>...</td>\n",
       "      <td>8</td>\n",
       "      <td>1410</td>\n",
       "      <td>0</td>\n",
       "      <td>2005</td>\n",
       "      <td>0</td>\n",
       "      <td>98103</td>\n",
       "      <td>47.6981</td>\n",
       "      <td>-122.340</td>\n",
       "      <td>1410</td>\n",
       "      <td>1253</td>\n",
       "    </tr>\n",
       "    <tr>\n",
       "      <th>2873</th>\n",
       "      <td>2619950490</td>\n",
       "      <td>20140712T000000</td>\n",
       "      <td>335000.0</td>\n",
       "      <td>3</td>\n",
       "      <td>2.25</td>\n",
       "      <td>1530</td>\n",
       "      <td>4580</td>\n",
       "      <td>2.0</td>\n",
       "      <td>0</td>\n",
       "      <td>0</td>\n",
       "      <td>...</td>\n",
       "      <td>7</td>\n",
       "      <td>1530</td>\n",
       "      <td>0</td>\n",
       "      <td>2011</td>\n",
       "      <td>0</td>\n",
       "      <td>98019</td>\n",
       "      <td>47.7342</td>\n",
       "      <td>-121.968</td>\n",
       "      <td>2110</td>\n",
       "      <td>4094</td>\n",
       "    </tr>\n",
       "    <tr>\n",
       "      <th>4216</th>\n",
       "      <td>2323059184</td>\n",
       "      <td>20141230T000000</td>\n",
       "      <td>305000.0</td>\n",
       "      <td>4</td>\n",
       "      <td>2.00</td>\n",
       "      <td>1800</td>\n",
       "      <td>13551</td>\n",
       "      <td>1.0</td>\n",
       "      <td>0</td>\n",
       "      <td>0</td>\n",
       "      <td>...</td>\n",
       "      <td>7</td>\n",
       "      <td>1800</td>\n",
       "      <td>0</td>\n",
       "      <td>1974</td>\n",
       "      <td>0</td>\n",
       "      <td>98059</td>\n",
       "      <td>47.4721</td>\n",
       "      <td>-122.128</td>\n",
       "      <td>1730</td>\n",
       "      <td>13551</td>\n",
       "    </tr>\n",
       "    <tr>\n",
       "      <th>14802</th>\n",
       "      <td>7436200040</td>\n",
       "      <td>20141105T000000</td>\n",
       "      <td>290000.0</td>\n",
       "      <td>5</td>\n",
       "      <td>2.50</td>\n",
       "      <td>2780</td>\n",
       "      <td>9652</td>\n",
       "      <td>1.0</td>\n",
       "      <td>0</td>\n",
       "      <td>0</td>\n",
       "      <td>...</td>\n",
       "      <td>8</td>\n",
       "      <td>1390</td>\n",
       "      <td>1390</td>\n",
       "      <td>1967</td>\n",
       "      <td>0</td>\n",
       "      <td>98001</td>\n",
       "      <td>47.3444</td>\n",
       "      <td>-122.271</td>\n",
       "      <td>1790</td>\n",
       "      <td>9652</td>\n",
       "    </tr>\n",
       "  </tbody>\n",
       "</table>\n",
       "<p>5 rows × 21 columns</p>\n",
       "</div>"
      ],
      "text/plain": [
       "               id             date     price  bedrooms  bathrooms  \\\n",
       "7086   2571910380  20140605T000000  289000.0         3       2.00   \n",
       "8287   4310701577  20140509T000000  382000.0         3       3.25   \n",
       "2873   2619950490  20140712T000000  335000.0         3       2.25   \n",
       "4216   2323059184  20141230T000000  305000.0         4       2.00   \n",
       "14802  7436200040  20141105T000000  290000.0         5       2.50   \n",
       "\n",
       "       sqft_living  sqft_lot  floors  waterfront  view  ...  grade  \\\n",
       "7086          1680      8424     1.0           0     0  ...      7   \n",
       "8287          1410      1253     3.0           0     0  ...      8   \n",
       "2873          1530      4580     2.0           0     0  ...      7   \n",
       "4216          1800     13551     1.0           0     0  ...      7   \n",
       "14802         2780      9652     1.0           0     0  ...      8   \n",
       "\n",
       "       sqft_above  sqft_basement  yr_built  yr_renovated  zipcode      lat  \\\n",
       "7086         1680              0      1993             0    98022  47.1969   \n",
       "8287         1410              0      2005             0    98103  47.6981   \n",
       "2873         1530              0      2011             0    98019  47.7342   \n",
       "4216         1800              0      1974             0    98059  47.4721   \n",
       "14802        1390           1390      1967             0    98001  47.3444   \n",
       "\n",
       "          long  sqft_living15  sqft_lot15  \n",
       "7086  -122.011           1990        8545  \n",
       "8287  -122.340           1410        1253  \n",
       "2873  -121.968           2110        4094  \n",
       "4216  -122.128           1730       13551  \n",
       "14802 -122.271           1790        9652  \n",
       "\n",
       "[5 rows x 21 columns]"
      ]
     },
     "execution_count": 3,
     "metadata": {},
     "output_type": "execute_result"
    }
   ],
   "source": [
    "import pandas as pd\n",
    "house = pd.read_csv('kc_house_data.csv')\n",
    "house.sample(5)"
   ]
  },
  {
   "cell_type": "code",
   "execution_count": 4,
   "metadata": {},
   "outputs": [
    {
     "data": {
      "text/html": [
       "<div>\n",
       "<style scoped>\n",
       "    .dataframe tbody tr th:only-of-type {\n",
       "        vertical-align: middle;\n",
       "    }\n",
       "\n",
       "    .dataframe tbody tr th {\n",
       "        vertical-align: top;\n",
       "    }\n",
       "\n",
       "    .dataframe thead th {\n",
       "        text-align: right;\n",
       "    }\n",
       "</style>\n",
       "<table border=\"1\" class=\"dataframe\">\n",
       "  <thead>\n",
       "    <tr style=\"text-align: right;\">\n",
       "      <th></th>\n",
       "      <th>price</th>\n",
       "      <th>bedrooms</th>\n",
       "      <th>bathrooms</th>\n",
       "      <th>sqft_living</th>\n",
       "      <th>sqft_lot</th>\n",
       "      <th>floors</th>\n",
       "      <th>waterfront</th>\n",
       "      <th>view</th>\n",
       "      <th>condition</th>\n",
       "      <th>grade</th>\n",
       "      <th>sqft_above</th>\n",
       "      <th>sqft_basement</th>\n",
       "      <th>sqft_living15</th>\n",
       "      <th>sqft_lot15</th>\n",
       "    </tr>\n",
       "  </thead>\n",
       "  <tbody>\n",
       "    <tr>\n",
       "      <th>0</th>\n",
       "      <td>221900.0</td>\n",
       "      <td>3</td>\n",
       "      <td>1.00</td>\n",
       "      <td>1180</td>\n",
       "      <td>5650</td>\n",
       "      <td>1.0</td>\n",
       "      <td>0</td>\n",
       "      <td>0</td>\n",
       "      <td>3</td>\n",
       "      <td>7</td>\n",
       "      <td>1180</td>\n",
       "      <td>0</td>\n",
       "      <td>1340</td>\n",
       "      <td>5650</td>\n",
       "    </tr>\n",
       "    <tr>\n",
       "      <th>1</th>\n",
       "      <td>538000.0</td>\n",
       "      <td>3</td>\n",
       "      <td>2.25</td>\n",
       "      <td>2570</td>\n",
       "      <td>7242</td>\n",
       "      <td>2.0</td>\n",
       "      <td>0</td>\n",
       "      <td>0</td>\n",
       "      <td>3</td>\n",
       "      <td>7</td>\n",
       "      <td>2170</td>\n",
       "      <td>400</td>\n",
       "      <td>1690</td>\n",
       "      <td>7639</td>\n",
       "    </tr>\n",
       "    <tr>\n",
       "      <th>2</th>\n",
       "      <td>180000.0</td>\n",
       "      <td>2</td>\n",
       "      <td>1.00</td>\n",
       "      <td>770</td>\n",
       "      <td>10000</td>\n",
       "      <td>1.0</td>\n",
       "      <td>0</td>\n",
       "      <td>0</td>\n",
       "      <td>3</td>\n",
       "      <td>6</td>\n",
       "      <td>770</td>\n",
       "      <td>0</td>\n",
       "      <td>2720</td>\n",
       "      <td>8062</td>\n",
       "    </tr>\n",
       "    <tr>\n",
       "      <th>3</th>\n",
       "      <td>604000.0</td>\n",
       "      <td>4</td>\n",
       "      <td>3.00</td>\n",
       "      <td>1960</td>\n",
       "      <td>5000</td>\n",
       "      <td>1.0</td>\n",
       "      <td>0</td>\n",
       "      <td>0</td>\n",
       "      <td>5</td>\n",
       "      <td>7</td>\n",
       "      <td>1050</td>\n",
       "      <td>910</td>\n",
       "      <td>1360</td>\n",
       "      <td>5000</td>\n",
       "    </tr>\n",
       "    <tr>\n",
       "      <th>4</th>\n",
       "      <td>510000.0</td>\n",
       "      <td>3</td>\n",
       "      <td>2.00</td>\n",
       "      <td>1680</td>\n",
       "      <td>8080</td>\n",
       "      <td>1.0</td>\n",
       "      <td>0</td>\n",
       "      <td>0</td>\n",
       "      <td>3</td>\n",
       "      <td>8</td>\n",
       "      <td>1680</td>\n",
       "      <td>0</td>\n",
       "      <td>1800</td>\n",
       "      <td>7503</td>\n",
       "    </tr>\n",
       "    <tr>\n",
       "      <th>...</th>\n",
       "      <td>...</td>\n",
       "      <td>...</td>\n",
       "      <td>...</td>\n",
       "      <td>...</td>\n",
       "      <td>...</td>\n",
       "      <td>...</td>\n",
       "      <td>...</td>\n",
       "      <td>...</td>\n",
       "      <td>...</td>\n",
       "      <td>...</td>\n",
       "      <td>...</td>\n",
       "      <td>...</td>\n",
       "      <td>...</td>\n",
       "      <td>...</td>\n",
       "    </tr>\n",
       "    <tr>\n",
       "      <th>21608</th>\n",
       "      <td>360000.0</td>\n",
       "      <td>3</td>\n",
       "      <td>2.50</td>\n",
       "      <td>1530</td>\n",
       "      <td>1131</td>\n",
       "      <td>3.0</td>\n",
       "      <td>0</td>\n",
       "      <td>0</td>\n",
       "      <td>3</td>\n",
       "      <td>8</td>\n",
       "      <td>1530</td>\n",
       "      <td>0</td>\n",
       "      <td>1530</td>\n",
       "      <td>1509</td>\n",
       "    </tr>\n",
       "    <tr>\n",
       "      <th>21609</th>\n",
       "      <td>400000.0</td>\n",
       "      <td>4</td>\n",
       "      <td>2.50</td>\n",
       "      <td>2310</td>\n",
       "      <td>5813</td>\n",
       "      <td>2.0</td>\n",
       "      <td>0</td>\n",
       "      <td>0</td>\n",
       "      <td>3</td>\n",
       "      <td>8</td>\n",
       "      <td>2310</td>\n",
       "      <td>0</td>\n",
       "      <td>1830</td>\n",
       "      <td>7200</td>\n",
       "    </tr>\n",
       "    <tr>\n",
       "      <th>21610</th>\n",
       "      <td>402101.0</td>\n",
       "      <td>2</td>\n",
       "      <td>0.75</td>\n",
       "      <td>1020</td>\n",
       "      <td>1350</td>\n",
       "      <td>2.0</td>\n",
       "      <td>0</td>\n",
       "      <td>0</td>\n",
       "      <td>3</td>\n",
       "      <td>7</td>\n",
       "      <td>1020</td>\n",
       "      <td>0</td>\n",
       "      <td>1020</td>\n",
       "      <td>2007</td>\n",
       "    </tr>\n",
       "    <tr>\n",
       "      <th>21611</th>\n",
       "      <td>400000.0</td>\n",
       "      <td>3</td>\n",
       "      <td>2.50</td>\n",
       "      <td>1600</td>\n",
       "      <td>2388</td>\n",
       "      <td>2.0</td>\n",
       "      <td>0</td>\n",
       "      <td>0</td>\n",
       "      <td>3</td>\n",
       "      <td>8</td>\n",
       "      <td>1600</td>\n",
       "      <td>0</td>\n",
       "      <td>1410</td>\n",
       "      <td>1287</td>\n",
       "    </tr>\n",
       "    <tr>\n",
       "      <th>21612</th>\n",
       "      <td>325000.0</td>\n",
       "      <td>2</td>\n",
       "      <td>0.75</td>\n",
       "      <td>1020</td>\n",
       "      <td>1076</td>\n",
       "      <td>2.0</td>\n",
       "      <td>0</td>\n",
       "      <td>0</td>\n",
       "      <td>3</td>\n",
       "      <td>7</td>\n",
       "      <td>1020</td>\n",
       "      <td>0</td>\n",
       "      <td>1020</td>\n",
       "      <td>1357</td>\n",
       "    </tr>\n",
       "  </tbody>\n",
       "</table>\n",
       "<p>21613 rows × 14 columns</p>\n",
       "</div>"
      ],
      "text/plain": [
       "          price  bedrooms  bathrooms  sqft_living  sqft_lot  floors  \\\n",
       "0      221900.0         3       1.00         1180      5650     1.0   \n",
       "1      538000.0         3       2.25         2570      7242     2.0   \n",
       "2      180000.0         2       1.00          770     10000     1.0   \n",
       "3      604000.0         4       3.00         1960      5000     1.0   \n",
       "4      510000.0         3       2.00         1680      8080     1.0   \n",
       "...         ...       ...        ...          ...       ...     ...   \n",
       "21608  360000.0         3       2.50         1530      1131     3.0   \n",
       "21609  400000.0         4       2.50         2310      5813     2.0   \n",
       "21610  402101.0         2       0.75         1020      1350     2.0   \n",
       "21611  400000.0         3       2.50         1600      2388     2.0   \n",
       "21612  325000.0         2       0.75         1020      1076     2.0   \n",
       "\n",
       "       waterfront  view  condition  grade  sqft_above  sqft_basement  \\\n",
       "0               0     0          3      7        1180              0   \n",
       "1               0     0          3      7        2170            400   \n",
       "2               0     0          3      6         770              0   \n",
       "3               0     0          5      7        1050            910   \n",
       "4               0     0          3      8        1680              0   \n",
       "...           ...   ...        ...    ...         ...            ...   \n",
       "21608           0     0          3      8        1530              0   \n",
       "21609           0     0          3      8        2310              0   \n",
       "21610           0     0          3      7        1020              0   \n",
       "21611           0     0          3      8        1600              0   \n",
       "21612           0     0          3      7        1020              0   \n",
       "\n",
       "       sqft_living15  sqft_lot15  \n",
       "0               1340        5650  \n",
       "1               1690        7639  \n",
       "2               2720        8062  \n",
       "3               1360        5000  \n",
       "4               1800        7503  \n",
       "...              ...         ...  \n",
       "21608           1530        1509  \n",
       "21609           1830        7200  \n",
       "21610           1020        2007  \n",
       "21611           1410        1287  \n",
       "21612           1020        1357  \n",
       "\n",
       "[21613 rows x 14 columns]"
      ]
     },
     "execution_count": 4,
     "metadata": {},
     "output_type": "execute_result"
    }
   ],
   "source": [
    "house.drop(['id','date','zipcode','lat','long','yr_built','yr_renovated'],axis = 1, inplace = True)\n",
    "house"
   ]
  },
  {
   "cell_type": "code",
   "execution_count": 5,
   "metadata": {},
   "outputs": [],
   "source": [
    "X = house.iloc[:,1:].to_numpy()\n",
    "y = house['price'].to_numpy()"
   ]
  },
  {
   "cell_type": "code",
   "execution_count": 6,
   "metadata": {},
   "outputs": [
    {
     "data": {
      "text/plain": [
       "(21613, 13)"
      ]
     },
     "execution_count": 6,
     "metadata": {},
     "output_type": "execute_result"
    }
   ],
   "source": [
    "X.shape"
   ]
  },
  {
   "cell_type": "code",
   "execution_count": 14,
   "metadata": {},
   "outputs": [
    {
     "data": {
      "text/plain": [
       "array([[3.000e+00, 1.000e+00, 1.180e+03, ..., 0.000e+00, 1.340e+03,\n",
       "        5.650e+03],\n",
       "       [3.000e+00, 2.250e+00, 2.570e+03, ..., 4.000e+02, 1.690e+03,\n",
       "        7.639e+03],\n",
       "       [2.000e+00, 1.000e+00, 7.700e+02, ..., 0.000e+00, 2.720e+03,\n",
       "        8.062e+03],\n",
       "       ...,\n",
       "       [2.000e+00, 7.500e-01, 1.020e+03, ..., 0.000e+00, 1.020e+03,\n",
       "        2.007e+03],\n",
       "       [3.000e+00, 2.500e+00, 1.600e+03, ..., 0.000e+00, 1.410e+03,\n",
       "        1.287e+03],\n",
       "       [2.000e+00, 7.500e-01, 1.020e+03, ..., 0.000e+00, 1.020e+03,\n",
       "        1.357e+03]])"
      ]
     },
     "execution_count": 14,
     "metadata": {},
     "output_type": "execute_result"
    }
   ],
   "source": [
    "X"
   ]
  },
  {
   "cell_type": "code",
   "execution_count": 13,
   "metadata": {},
   "outputs": [
    {
     "name": "stdout",
     "output_type": "stream",
     "text": [
      "13540.0\n",
      "7700000.0\n"
     ]
    }
   ],
   "source": [
    "print(X[:,2].max())\n",
    "print(y.max())"
   ]
  },
  {
   "cell_type": "code",
   "execution_count": 15,
   "metadata": {},
   "outputs": [
    {
     "data": {
      "text/plain": [
       "Text(0, 0.5, 'price')"
      ]
     },
     "execution_count": 15,
     "metadata": {},
     "output_type": "execute_result"
    },
    {
     "data": {
      "image/png": "[encoded data removed]",
      "text/plain": [
       "<Figure size 432x288 with 1 Axes>"
      ]
     },
     "metadata": {
      "needs_background": "light"
     },
     "output_type": "display_data"
    }
   ],
   "source": [
    "import matplotlib.pyplot as plt\n",
    "x = X[:,2]\n",
    "plt.scatter(x,y)\n",
    "plt.xlabel('sqft_living') \n",
    "plt.ylabel('price')"
   ]
  },
  {
   "cell_type": "code",
   "execution_count": 16,
   "metadata": {},
   "outputs": [
    {
     "name": "stdout",
     "output_type": "stream",
     "text": [
      "Help on MyLinearRegression1D in module __main__ object:\n",
      "\n",
      "class MyLinearRegression1D(builtins.object)\n",
      " |  The single-variable linear regression estimator -- writing in the style of sklearn package\n",
      " |  \n",
      " |  Methods defined here:\n",
      " |  \n",
      " |  fit(self, x, y)\n",
      " |      Determine the optimal parameters w, b for the input data x and y\n",
      " |      \n",
      " |      Parameters\n",
      " |      ----------\n",
      " |         x : 1D numpy array with shape (n_samples,) from training data\n",
      " |         y : 1D numpy array with shape (n_samples,) from training data\n",
      " |      \n",
      " |      Returns\n",
      " |      -------\n",
      " |      self : returns an instance of self, with new attributes slope w (float) and intercept b (float)\n",
      " |  \n",
      " |  predict(self, x)\n",
      " |      Predict the output values for the input value x, based on trained parameters\n",
      " |      \n",
      " |      Parameters\n",
      " |      ----------\n",
      " |         x : 1D numpy array from training or test data \n",
      " |      \n",
      " |      Returns\n",
      " |      -------\n",
      " |      returns 1D numpy array of same shape as input, the predicted y value of corresponding x\n",
      " |  \n",
      " |  score(self, x, y)\n",
      " |      Calculate the R-squared on the dataset with input x and y\n",
      " |      \n",
      " |      Parameters\n",
      " |      ----------\n",
      " |         x : 1D numpy array with shape (n_samples,) from training or test data\n",
      " |         y : 1D numpy array with shape (n_samples,) from training or test data\n",
      " |      \n",
      " |      Returns\n",
      " |      -------\n",
      " |      returns float, the R^2 value\n",
      " |  \n",
      " |  ----------------------------------------------------------------------\n",
      " |  Data descriptors defined here:\n",
      " |  \n",
      " |  __dict__\n",
      " |      dictionary for instance variables (if defined)\n",
      " |  \n",
      " |  __weakref__\n",
      " |      list of weak references to the object (if defined)\n",
      "\n"
     ]
    }
   ],
   "source": [
    "lreg = MyLinearRegression1D() # initialize the instance of one estimator\n",
    "help(lreg)"
   ]
  },
  {
   "cell_type": "code",
   "execution_count": 17,
   "metadata": {},
   "outputs": [],
   "source": [
    "lreg.fit(x,y)"
   ]
  },
  {
   "cell_type": "code",
   "execution_count": 18,
   "metadata": {},
   "outputs": [
    {
     "data": {
      "text/plain": [
       "0.49286538652201417"
      ]
     },
     "execution_count": 18,
     "metadata": {},
     "output_type": "execute_result"
    }
   ],
   "source": [
    "lreg.score(x,y)"
   ]
  },
  {
   "cell_type": "code",
   "execution_count": 20,
   "metadata": {},
   "outputs": [
    {
     "data": {
      "text/plain": [
       "[<matplotlib.lines.Line2D at 0x2dbc66b4eb0>]"
      ]
     },
     "execution_count": 20,
     "metadata": {},
     "output_type": "execute_result"
    },
    {
     "data": {
      "image/png": "[encoded data removed]",
      "text/plain": [
       "<Figure size 600x400 with 1 Axes>"
      ]
     },
     "metadata": {
      "needs_background": "light"
     },
     "output_type": "display_data"
    }
   ],
   "source": [
    "fig = plt.figure(dpi = 100)\n",
    "plt.scatter(x,y)\n",
    "plt.xlabel('sqft_living') \n",
    "plt.ylabel('price')\n",
    "plt.plot(x,lreg.predict(x),'r')"
   ]
  },
  {
   "cell_type": "code",
   "execution_count": 23,
   "metadata": {},
   "outputs": [
    {
     "data": {
      "text/plain": [
       "LinearRegression()"
      ]
     },
     "execution_count": 23,
     "metadata": {},
     "output_type": "execute_result"
    }
   ],
   "source": [
    "from sklearn import linear_model # compare with the scikit learn package\n",
    "lreg_sklearn = linear_model.LinearRegression()\n",
    "lreg_sklearn.fit(x.reshape(-1,1),y) #only accept 2D-array as x"
   ]
  },
  {
   "cell_type": "code",
   "execution_count": 24,
   "metadata": {},
   "outputs": [
    {
     "name": "stdout",
     "output_type": "stream",
     "text": [
      "280.8066899295006 -43867.60153385543\n",
      "[280.80668993] -43867.601533854846\n"
     ]
    }
   ],
   "source": [
    "print(lreg.w,lreg.b)\n",
    "print(lreg_sklearn.coef_, lreg_sklearn.intercept_)"
   ]
  },
  {
   "cell_type": "code",
   "execution_count": 25,
   "metadata": {},
   "outputs": [
    {
     "data": {
      "text/plain": [
       "0.4928653865220143"
      ]
     },
     "execution_count": 25,
     "metadata": {},
     "output_type": "execute_result"
    }
   ],
   "source": [
    "lreg_sklearn.score(x.reshape(-1,1),y)"
   ]
  },
  {
   "cell_type": "code",
   "execution_count": 26,
   "metadata": {},
   "outputs": [
    {
     "name": "stdout",
     "output_type": "stream",
     "text": [
      "Help on LinearRegression in module sklearn.linear_model._base object:\n",
      "\n",
      "class LinearRegression(sklearn.base.MultiOutputMixin, sklearn.base.RegressorMixin, LinearModel)\n",
      " |  LinearRegression(*, fit_intercept=True, normalize=False, copy_X=True, n_jobs=None)\n",
      " |  \n",
      " |  Ordinary least squares Linear Regression.\n",
      " |  \n",
      " |  LinearRegression fits a linear model with coefficients w = (w1, ..., wp)\n",
      " |  to minimize the residual sum of squares between the observed targets in\n",
      " |  the dataset, and the targets predicted by the linear approximation.\n",
      " |  \n",
      " |  Parameters\n",
      " |  ----------\n",
      " |  fit_intercept : bool, default=True\n",
      " |      Whether to calculate the intercept for this model. If set\n",
      " |      to False, no intercept will be used in calculations\n",
      " |      (i.e. data is expected to be centered).\n",
      " |  \n",
      " |  normalize : bool, default=False\n",
      " |      This parameter is ignored when ``fit_intercept`` is set to False.\n",
      " |      If True, the regressors X will be normalized before regression by\n",
      " |      subtracting the mean and dividing by the l2-norm.\n",
      " |      If you wish to standardize, please use\n",
      " |      :class:`sklearn.preprocessing.StandardScaler` before calling ``fit`` on\n",
      " |      an estimator with ``normalize=False``.\n",
      " |  \n",
      " |  copy_X : bool, default=True\n",
      " |      If True, X will be copied; else, it may be overwritten.\n",
      " |  \n",
      " |  n_jobs : int, default=None\n",
      " |      The number of jobs to use for the computation. This will only provide\n",
      " |      speedup for n_targets > 1 and sufficient large problems.\n",
      " |      ``None`` means 1 unless in a :obj:`joblib.parallel_backend` context.\n",
      " |      ``-1`` means using all processors. See :term:`Glossary <n_jobs>`\n",
      " |      for more details.\n",
      " |  \n",
      " |  Attributes\n",
      " |  ----------\n",
      " |  coef_ : array of shape (n_features, ) or (n_targets, n_features)\n",
      " |      Estimated coefficients for the linear regression problem.\n",
      " |      If multiple targets are passed during the fit (y 2D), this\n",
      " |      is a 2D array of shape (n_targets, n_features), while if only\n",
      " |      one target is passed, this is a 1D array of length n_features.\n",
      " |  \n",
      " |  rank_ : int\n",
      " |      Rank of matrix `X`. Only available when `X` is dense.\n",
      " |  \n",
      " |  singular_ : array of shape (min(X, y),)\n",
      " |      Singular values of `X`. Only available when `X` is dense.\n",
      " |  \n",
      " |  intercept_ : float or array of shape (n_targets,)\n",
      " |      Independent term in the linear model. Set to 0.0 if\n",
      " |      `fit_intercept = False`.\n",
      " |  \n",
      " |  See Also\n",
      " |  --------\n",
      " |  sklearn.linear_model.Ridge : Ridge regression addresses some of the\n",
      " |      problems of Ordinary Least Squares by imposing a penalty on the\n",
      " |      size of the coefficients with l2 regularization.\n",
      " |  sklearn.linear_model.Lasso : The Lasso is a linear model that estimates\n",
      " |      sparse coefficients with l1 regularization.\n",
      " |  sklearn.linear_model.ElasticNet : Elastic-Net is a linear regression\n",
      " |      model trained with both l1 and l2 -norm regularization of the\n",
      " |      coefficients.\n",
      " |  \n",
      " |  Notes\n",
      " |  -----\n",
      " |  From the implementation point of view, this is just plain Ordinary\n",
      " |  Least Squares (scipy.linalg.lstsq) wrapped as a predictor object.\n",
      " |  \n",
      " |  Examples\n",
      " |  --------\n",
      " |  >>> import numpy as np\n",
      " |  >>> from sklearn.linear_model import LinearRegression\n",
      " |  >>> X = np.array([[1, 1], [1, 2], [2, 2], [2, 3]])\n",
      " |  >>> # y = 1 * x_0 + 2 * x_1 + 3\n",
      " |  >>> y = np.dot(X, np.array([1, 2])) + 3\n",
      " |  >>> reg = LinearRegression().fit(X, y)\n",
      " |  >>> reg.score(X, y)\n",
      " |  1.0\n",
      " |  >>> reg.coef_\n",
      " |  array([1., 2.])\n",
      " |  >>> reg.intercept_\n",
      " |  3.0000...\n",
      " |  >>> reg.predict(np.array([[3, 5]]))\n",
      " |  array([16.])\n",
      " |  \n",
      " |  Method resolution order:\n",
      " |      LinearRegression\n",
      " |      sklearn.base.MultiOutputMixin\n",
      " |      sklearn.base.RegressorMixin\n",
      " |      LinearModel\n",
      " |      sklearn.base.BaseEstimator\n",
      " |      builtins.object\n",
      " |  \n",
      " |  Methods defined here:\n",
      " |  \n",
      " |  __init__(self, *, fit_intercept=True, normalize=False, copy_X=True, n_jobs=None)\n",
      " |      Initialize self.  See help(type(self)) for accurate signature.\n",
      " |  \n",
      " |  fit(self, X, y, sample_weight=None)\n",
      " |      Fit linear model.\n",
      " |      \n",
      " |      Parameters\n",
      " |      ----------\n",
      " |      X : {array-like, sparse matrix} of shape (n_samples, n_features)\n",
      " |          Training data\n",
      " |      \n",
      " |      y : array-like of shape (n_samples,) or (n_samples, n_targets)\n",
      " |          Target values. Will be cast to X's dtype if necessary\n",
      " |      \n",
      " |      sample_weight : array-like of shape (n_samples,), default=None\n",
      " |          Individual weights for each sample\n",
      " |      \n",
      " |          .. versionadded:: 0.17\n",
      " |             parameter *sample_weight* support to LinearRegression.\n",
      " |      \n",
      " |      Returns\n",
      " |      -------\n",
      " |      self : returns an instance of self.\n",
      " |  \n",
      " |  ----------------------------------------------------------------------\n",
      " |  Data and other attributes defined here:\n",
      " |  \n",
      " |  __abstractmethods__ = frozenset()\n",
      " |  \n",
      " |  ----------------------------------------------------------------------\n",
      " |  Data descriptors inherited from sklearn.base.MultiOutputMixin:\n",
      " |  \n",
      " |  __dict__\n",
      " |      dictionary for instance variables (if defined)\n",
      " |  \n",
      " |  __weakref__\n",
      " |      list of weak references to the object (if defined)\n",
      " |  \n",
      " |  ----------------------------------------------------------------------\n",
      " |  Methods inherited from sklearn.base.RegressorMixin:\n",
      " |  \n",
      " |  score(self, X, y, sample_weight=None)\n",
      " |      Return the coefficient of determination R^2 of the prediction.\n",
      " |      \n",
      " |      The coefficient R^2 is defined as (1 - u/v), where u is the residual\n",
      " |      sum of squares ((y_true - y_pred) ** 2).sum() and v is the total\n",
      " |      sum of squares ((y_true - y_true.mean()) ** 2).sum().\n",
      " |      The best possible score is 1.0 and it can be negative (because the\n",
      " |      model can be arbitrarily worse). A constant model that always\n",
      " |      predicts the expected value of y, disregarding the input features,\n",
      " |      would get a R^2 score of 0.0.\n",
      " |      \n",
      " |      Parameters\n",
      " |      ----------\n",
      " |      X : array-like of shape (n_samples, n_features)\n",
      " |          Test samples. For some estimators this may be a\n",
      " |          precomputed kernel matrix or a list of generic objects instead,\n",
      " |          shape = (n_samples, n_samples_fitted),\n",
      " |          where n_samples_fitted is the number of\n",
      " |          samples used in the fitting for the estimator.\n",
      " |      \n",
      " |      y : array-like of shape (n_samples,) or (n_samples, n_outputs)\n",
      " |          True values for X.\n",
      " |      \n",
      " |      sample_weight : array-like of shape (n_samples,), default=None\n",
      " |          Sample weights.\n",
      " |      \n",
      " |      Returns\n",
      " |      -------\n",
      " |      score : float\n",
      " |          R^2 of self.predict(X) wrt. y.\n",
      " |      \n",
      " |      Notes\n",
      " |      -----\n",
      " |      The R2 score used when calling ``score`` on a regressor uses\n",
      " |      ``multioutput='uniform_average'`` from version 0.23 to keep consistent\n",
      " |      with default value of :func:`~sklearn.metrics.r2_score`.\n",
      " |      This influences the ``score`` method of all the multioutput\n",
      " |      regressors (except for\n",
      " |      :class:`~sklearn.multioutput.MultiOutputRegressor`).\n",
      " |  \n",
      " |  ----------------------------------------------------------------------\n",
      " |  Methods inherited from LinearModel:\n",
      " |  \n",
      " |  predict(self, X)\n",
      " |      Predict using the linear model.\n",
      " |      \n",
      " |      Parameters\n",
      " |      ----------\n",
      " |      X : array_like or sparse matrix, shape (n_samples, n_features)\n",
      " |          Samples.\n",
      " |      \n",
      " |      Returns\n",
      " |      -------\n",
      " |      C : array, shape (n_samples,)\n",
      " |          Returns predicted values.\n",
      " |  \n",
      " |  ----------------------------------------------------------------------\n",
      " |  Methods inherited from sklearn.base.BaseEstimator:\n",
      " |  \n",
      " |  __getstate__(self)\n",
      " |  \n",
      " |  __repr__(self, N_CHAR_MAX=700)\n",
      " |      Return repr(self).\n",
      " |  \n",
      " |  __setstate__(self, state)\n",
      " |  \n",
      " |  get_params(self, deep=True)\n",
      " |      Get parameters for this estimator.\n",
      " |      \n",
      " |      Parameters\n",
      " |      ----------\n",
      " |      deep : bool, default=True\n",
      " |          If True, will return the parameters for this estimator and\n",
      " |          contained subobjects that are estimators.\n",
      " |      \n",
      " |      Returns\n",
      " |      -------\n",
      " |      params : mapping of string to any\n",
      " |          Parameter names mapped to their values.\n",
      " |  \n",
      " |  set_params(self, **params)\n",
      " |      Set the parameters of this estimator.\n",
      " |      \n",
      " |      The method works on simple estimators as well as on nested objects\n",
      " |      (such as pipelines). The latter have parameters of the form\n",
      " |      ``<component>__<parameter>`` so that it's possible to update each\n",
      " |      component of a nested object.\n",
      " |      \n",
      " |      Parameters\n",
      " |      ----------\n",
      " |      **params : dict\n",
      " |          Estimator parameters.\n",
      " |      \n",
      " |      Returns\n",
      " |      -------\n",
      " |      self : object\n",
      " |          Estimator instance.\n",
      "\n"
     ]
    }
   ],
   "source": [
    "help(lreg_sklearn)"
   ]
  },
  {
   "cell_type": "markdown",
   "metadata": {},
   "source": [
    "## Motivating Example II: Multi-variable Linear Regression (OLS -- Ordinary Least Square)\n",
    "\n",
    "### **Problem**\n",
    "Given the *training dataset* $\\left(x^{(i)},y^{(i)}\\right), i= 1,2,..., N$, this time with $y^{(i)}\\in \\mathbb{R}$ and $x^{(i)}\\in\\mathbb{R}^{p}$, we fit the multi-variable linear function\n",
    "\n",
    "$$y\\approx\\mathbf{f}(x)=\\beta_{0}+\\beta_{1}x_{1}+..+\\beta_{p}x_{p} = \\tilde{x}\\beta,$$  \n",
    "    $$\\tilde{x}=(1,x_{1},..,x_{p})\\in\\mathbb{R}^{1\\times (p+1)},\\beta = (\\beta_{0},\\beta_{1},..,\\beta_{p})^{T}\\in\\mathbb{R}^{(p+1)\\times 1}.$$\n",
    "\n",
    "\n",
    "We call $\\beta$ the regression coefficients, and $\\beta_{0}$ specially refers to the intercept.\n",
    "\n",
    "When $p = 2$, we are finding a plane of best fit. When $p > 2$, our function is a hyperplane.\n",
    "\n",
    "Using the whole training dataset, we can write as \n",
    "\n",
    "$$Y=\\left(\n",
    " \\begin{matrix}\n",
    "   y^{(1)}\\\\\n",
    "   y^{(2)} \\\\\n",
    "   \\cdots \\\\\n",
    "   y^{(N)}\n",
    "  \\end{matrix} \n",
    "\\right)\\approx\\left(\n",
    "  \\begin{matrix}\n",
    "   \\mathbf{f}(x^{(1)})\\\\\n",
    "   \\mathbf{f}(x^{(2)})\\\\\n",
    "   \\cdots \\\\\n",
    "   \\mathbf{f}(x^{(N)})\n",
    "  \\end{matrix} \n",
    "\\right)=\\left(\n",
    "  \\begin{matrix}\n",
    "   \\tilde{x}^{(1)}\\beta\\\\\n",
    "   \\tilde{x}^{(2)}\\beta\\\\\n",
    "   \\cdots \\\\\n",
    "   \\tilde{x}^{(N)}\\beta\n",
    "  \\end{matrix} \n",
    "\\right)=\\left(\n",
    "  \\begin{matrix}\n",
    "   \\tilde{x}^{(1)}\\\\\n",
    "   \\tilde{x}^{(2)}\\\\\n",
    "   \\cdots \\\\\n",
    "   \\tilde{x}^{(N)}\n",
    "  \\end{matrix} \n",
    "\\right)\\beta = \\tilde{X}\\beta,\n",
    "$$\n",
    "\n",
    "where \n",
    "$$\n",
    "\\tilde{X}=\\left(\n",
    "  \\begin{matrix}\n",
    "   1& x_{1}^{(1)} & \\cdots & x_{p}^{(1)}\\\\\n",
    "   1& x_{1}^{(2)} & \\cdots & x_{p}^{(2)}\\\\\n",
    "   \\cdots \\\\\n",
    "   1& x_{1}^{(N)} & \\cdots & x_{p}^{(N)}\n",
    "  \\end{matrix} \n",
    "\\right)\n",
    "$$\n",
    "is also called the augmented data matrix.\n",
    "\n",
    "- **Question**: To get unknown $\\beta$, can we directly solve the linear equation $\\tilde{X}\\beta = Y$?\n",
    "\n",
    "- **Answer**: Most time no, because 1) typically there are more equations than variables ($N>>(p+1)$) 2) the linear model is merely the approximation to the real mapping 3) there are noises in the data points -- it's highly possible that there is NO solution at all!\n",
    "\n",
    "- **Strategy**: Instead of solving $\\tilde{X}\\beta = Y$ exactly, we want find $\\beta$ such that $\\tilde{X}\\beta$ is as close as $Y$. \n",
    "\n",
    "### Training the model\n",
    "\n",
    "- With the training dataset, define the loss function $L(\\beta)$ of parameters $\\beta$, which is also called **mean squared error** (MSE) $$L(\\beta)=\\frac{1}{N}\\sum_{i=1}^N\\big(\\hat{y}^{(i)}-y^{(i)}\\big)^2 = \\frac{1}{N}\\sum_{i=1}^{N}(y^{(i)}-\\tilde{x}^{(i)}\\beta)^{2},$$\n",
    "where $\\hat{y}^{(i)}$ denotes the predicted value of y at $x^{(i)}$, i.e. $$\\hat{y}^{(i)} = \\beta_{0}+\\beta_{1}x^{(i)}_{1}+..+\\beta_{p}x^{(i)}_{p} = \\tilde{x}^{(i)}\\beta.$$ \n",
    "    \n",
    "    Now the problem becomes $$\\min_{\\beta}L(\\beta),$$ i.e. find the minimizer of a multi-variable (p+1 dimensions) function.\n",
    "\n",
    "\n",
    "- Then find the minimum of loss function -- There are two ways, either by numerical optimization (will be introduced in discussion) or by solving linear systems (introduced below), which is also called the **normal equation** approach.\n",
    "\n",
    "\n",
    "To solve the critical points, we have $\\nabla L(\\beta)=0$.\n",
    "$$\n",
    "\\begin{aligned}\n",
    "\\frac{\\partial L}{\\partial \\beta_{0}}&=2\\sum_{i=1}^{N}(\\tilde{x}^{(i)}\\beta-y^{(i)})=0,\\\\\n",
    "\\frac{\\partial L}{\\partial \\beta_{k}}&=2\\sum_{i=1}^{N} x_{k}^{(i)}(\\tilde{x}^{(i)}\\beta-y^{(i)})=0,\\quad k=1,2,..,p.\n",
    "\\end{aligned}\n",
    "$$\n",
    "\n",
    "In Matrix form, it can be expressed as (left as exercise) $$\\tilde{X}^{T}\\tilde{X}\\beta=\\tilde{X}^{T}Y,$$\n",
    "\n",
    "also called the **normal equation** of linear regression. \n",
    "The optimal parameter \n",
    "$\\hat{\\beta}=\\text{argmin} L(\\beta)$\n",
    "is also called the ordinary least square (**OLS**) estimator in statistics community.\n",
    "\n",
    "Then the OLS estimator can be solved as $$\\hat{\\beta}=(\\tilde{X}^{T}\\tilde{X})^{-1}\\tilde{X}^{T}Y.$$\n",
    "\n",
    "**[Geometrical Interpretation](https://en.wikipedia.org/wiki/Ordinary_least_squares)**\n",
    "\n",
    "Denote $\\tilde{X}=(\\tilde{X}_{0},\\tilde{X}_{1},..,\\tilde{X}_{p})$, then $\\tilde{X}\\beta=\\sum_{k=0}^{p}\\beta_{k}\\tilde{X}_{k}$. We require that the residual $Y-\\tilde{X}\\beta$ is vertical to the plane spanned by $\\tilde{X}_{k}$, which yields $$\\tilde{X}_{k}^{T}(Y-\\tilde{X}\\beta)=0,\\quad k = 0,1,...,p$$\n",
    "\n",
    "**Exercise**: Check that when $p=1$, the solution is equivalent to the single-variable regression. \n",
    "\n",
    "### Prediction in Test Data\n",
    "\n",
    "Given the new observation called $x^{(test)}$, we have the prediction as $$\\hat{y}^{(test)}=\\hat{\\beta}_{0}+\\hat{\\beta}_{1}x^{(test)}_{1}+..+\\hat{\\beta}_{p}x^{(test)}_{p} = \\tilde{x}^{(test)}\\hat{\\beta}.$$\n",
    "\n",
    "### Evaluating the model\n",
    "\n",
    "- MSE: The smaller MSE indicates better performance\n",
    "- R-Squared: The larger $R^{2}$ (closer to 1) indicates better performance. Compared with MSE, R-squared is **dimensionless**, not dependent on the units of variable. \n",
    "\n",
    "$$R^{2} = 1 - \\frac{\\sum_{i=1}^{N}(y^{(i)}-\\hat{y}^{(i)})^{2}}{\\sum_{i=1}^{N}(y^{(i)}-\\bar{y})^{2}} = 1 - \\frac{\\frac{1}{N}\\sum_{i=1}^{N}(y^{(i)}-\\hat{y}^{(i)})^{2}}{\\frac{1}{N}\\sum_{i=1}^{N}(y^{(i)}-\\bar{y})^{2}} = 1 - \\frac{\\text{MSE}}{\\text{Var}(Y)}$$"
   ]
  },
  {
   "cell_type": "markdown",
   "metadata": {},
   "source": [
    "The coding of multi-variable linear regression left as the homework this week. Below we will call the function in sklearn directly."
   ]
  },
  {
   "cell_type": "code",
   "execution_count": 15,
   "metadata": {},
   "outputs": [
    {
     "data": {
      "text/plain": [
       "0.6070919341230852"
      ]
     },
     "execution_count": 15,
     "metadata": {},
     "output_type": "execute_result"
    }
   ],
   "source": [
    "from sklearn import linear_model # compare with the scikit learn package\n",
    "lreg_sklearn = linear_model.LinearRegression()\n",
    "lreg_sklearn.fit(X,y) \n",
    "lreg_sklearn.score(X,y)"
   ]
  },
  {
   "cell_type": "code",
   "execution_count": 16,
   "metadata": {},
   "outputs": [
    {
     "data": {
      "text/plain": [
       "array([-3.46669591e+04, -1.48698203e+04,  1.34078969e+02,  2.67695148e-02,\n",
       "       -3.00709892e+03,  5.85782331e+05,  5.98910372e+04,  5.38601479e+04,\n",
       "        1.00892579e+05,  5.22508348e+01,  8.18281340e+01,  1.10527941e+01,\n",
       "       -7.49796930e-01])"
      ]
     },
     "execution_count": 16,
     "metadata": {},
     "output_type": "execute_result"
    }
   ],
   "source": [
    "lreg_sklearn.coef_"
   ]
  },
  {
   "cell_type": "code",
   "execution_count": 17,
   "metadata": {},
   "outputs": [
    {
     "data": {
      "text/plain": [
       "-690582.9505203383"
      ]
     },
     "execution_count": 17,
     "metadata": {},
     "output_type": "execute_result"
    }
   ],
   "source": [
    "lreg_sklearn.intercept_"
   ]
  },
  {
   "cell_type": "markdown",
   "metadata": {
    "slideshow": {
     "slide_type": "slide"
    }
   },
   "source": [
    "## Motivating Example III: Single-variable Polynomial Regression (Special Case of Multivariable Linear Regression)\n",
    "\n",
    "### **Problem**\n",
    "Given the *training dataset* $(x^{(i)},y^{(i)}), i= 1,2,..., N$, this time with $y^{(i)}\\in \\mathbb{R}$ and $x^{(i)}\\in\\mathbb{R}$, we fit the single-variable polynomial function of $p$-th order\n",
    "\n",
    "$$y\\approx f(x)=w_{0}+w_{1}x+w_{2}x^{2}+...+w_{p}x^{p}$$  \n",
    "\n",
    "**Remark:** A basic conclusion in numerical analysis is that with N points, we can have a polynomial of order (N-1) that fits every point perfectly.\n",
    " \n",
    "### **Strategy**\n",
    "Single-variable **polynomial regression** is a special case of multi-variable **linear** regression, because we can construct a dataset of $p$ variables by defining each row as $(x,x^{2}, ..., x^{p})$ for each observation at $x$. "
   ]
  },
  {
   "cell_type": "markdown",
   "metadata": {
    "slideshow": {
     "slide_type": "fragment"
    }
   },
   "source": [
    "___\n",
    "##  Machine Learning: Overview of the whole picture\n",
    "Possible hierarchies of machine learning concepts:\n",
    "\n",
    "- **Problems**: Supervised Learning(Regression,Classification), Unsupervised Learning (Dimension Reduction, Clustering), Reinforcement Learning (Not covered in this course)\n",
    "\n",
    "\n",
    "- **Models**: \n",
    "    - (Supervised) Linear Regression, Logistic Regression, K-Nearest Neighbor (kNN) Classification/Regression, Decision Tree, Random Forest, Support Vector Machine, Ensemble Method, Neural Network...\n",
    "    - (Unsupervised) K-means,Hierachical Clustering, Principle Component Analysis, Manifold Learning (MDS, IsoMap, Diffusion Map, tSNE), Auto Encoder...\n",
    "    \n",
    "\n",
    "- **Algorithms**: Gradient Descent, Stochastic Gradient Descent (SGD), Back Propagation (BP),Expectation–Maximization (EM)...\n",
    "    \n",
    "    \n",
    "For the same **problem**, there may exist multiple **models** to discribe it. Given the specific **model**, there might be many different **algorithms** to solve it.\n",
    "\n",
    "Why there is so much diversity? The following two fundamental principles of machine learning may provide theoretical insights."
   ]
  },
  {
   "cell_type": "markdown",
   "metadata": {
    "slideshow": {
     "slide_type": "slide"
    }
   },
   "source": [
    "**[Bias-Variance Trade-off](https://towardsdatascience.com/understanding-the-bias-variance-tradeoff-165e6942b229)**: Simple models -- large bias, low variance. Complex models -- low bias, large variance\n",
    "\n",
    "**[No Free Lunch Theorem](https://analyticsindiamag.com/what-are-the-no-free-lunch-theorems-in-data-science/#:~:text=Once%20Upon%20A%20Time,that%20they%20brought%20a%20drink)**: (in plain language) There is no one model that works best for every problem. (more quantitatively) Any two models are equivalent when their performance averaged across all possible problems. --Even true for [optimization algorithms](https://en.wikipedia.org/wiki/No_free_lunch_in_search_and_optimization)."
   ]
  },
  {
   "cell_type": "markdown",
   "metadata": {},
   "source": [
    "---\n",
    "\n",
    "## Extensions of OLS:  MLE, Regularization, Ridge Regression and LASSO\n",
    "\n",
    "*Note: The detailed mathematical derivations below are optional material. You only need to know (for quiz/exam):*\n",
    "\n",
    "1) what is the relation between MLE (most likelihood estimation) and the loss function in OLS regression (ordinary least-square)\n",
    "\n",
    "2) the basic concepts of Ridge regression and LASSO ;\n",
    "\n",
    "3) where does the additional regularization terms in the loss function of Ridge and LASSO come from ;\n",
    "\n",
    "4) which model has the best performance on training/test dataset? (or is there any theoretical guarantee?)\n",
    "\n",
    "\n",
    "### Most Likelihood Estimation (MLE) and loss function in OLS\n",
    "We already known what the loss function looks like in OLS. Here we first provide a mathematical explanation of this loss function from the perspective of \n",
    "Most Likelihood Estimation (MLE).\n",
    "\n",
    "Recall that in linear regression, our **model assumption** is \n",
    "\n",
    "$$y^{(i)}=\\tilde{x}^{(i)}\\beta+\\epsilon^{(i)}, i = 1,2,.., N$$ \n",
    "\n",
    "Now we further **assume** that residuals or errors $\\epsilon^{(i)}$ are as independent Gaussian random variables with identical distribution $\\mathcal{N}(0,\\sigma^{2})$ which has mean 0 and standard deviation $\\sigma$.\n",
    "\n",
    "From the density function of Gaussian distribution, the prabability to observe $\\epsilon^{(i)}$ within the small interval $[z,z+\\Delta z]$ is roughly $$\\mathbb{P}(z<\\epsilon^{(i)}<z+\\Delta z) = \\frac{1}{\\sqrt{2\\pi}\\sigma}\\exp({-\\frac{z^2}{2\\sigma^2}})\\Delta z.$$\n",
    "\n",
    "From the data, we know indeed $z=y^{(i)}-\\tilde{x}^{(i)}\\beta$. Therefore, given $x^{(i)}$ as fixed, the probability density (likelihood) to observe $y^{(i)}$ is roughly $$l(y^{(i)}|x^{(i)},\\beta)=\\frac{1}{\\sqrt{2\\pi}\\sigma}\\exp({-\\frac{(y^{(i)}-\\tilde{x}^{(i)}\\beta)^2}{2\\sigma^2}}).$$\n",
    "\n",
    "Using the *independence* assumption, the overall likelihood to observe the response data $y^{i}(i=1,2,...,N)$ is \n",
    "\n",
    "$$\\mathcal{P}(y^{(i)},1\\leq i\\leq N|\\beta,x^{(i)})=\\prod_{i=1}^{N}l(y^{(i)}|x^{(i)},\\beta)$$\n",
    "\n",
    "The famous **Maximum Likelihood Estimation (MLE)** theory in statistics **assumes** that we aim to find the unknown parameter $\\beta$ that maximizes the $\\mathcal{P}(\\beta;x^{(i)},y^{(i)},1\\leq i\\leq N)$ by treating $x^{(i)}$ and $y^{(i)}$ as fixed numbers. \n",
    "\n",
    "Equivalently, as the function of $\\beta$, we can maximize $$\\ln \\mathcal{P}= \\sum_{i=1}^{N}\\ln l(y^{(i)}|\\beta,x^{(i)}).$$ \n",
    "\n",
    "By removing the constants, we finally arrives at the **minimization** problem of $L^{2}$ loss function (whose difference with **MSE -- mean squared error** is only up to the factor 1/N)\n",
    "$$L(\\beta)=\\sum_{i=1}^{N}(y^{(i)}-\\tilde{x}^{(i)}\\beta)^{2}= ||Y-\\tilde{X}\\beta||_{2}^2.$$\n",
    "\n",
    "\n",
    "### MAP (instead of MLE) Estimation in Bayesian Statistics\n",
    "\n",
    "**Recall** the likelihood function -- we interpret it as the probability of observing the response data, given the parameter $\\beta$ as fixed, i.e. conditional probability\n",
    "\n",
    "$$\\mathcal{P}(y^{(i)},1\\leq i\\leq N|\\beta,x^{(i)})=\\prod_{i=1}^{N}l(y^{(i)}|x^{(i)},\\beta)$$\n",
    "\n",
    "Now we take a bayesian approach -- assume $\\beta$ is the random variable with **prior distirbution** $\\mathcal{P}(\\beta)$. Then the **posterior distribution** of $\\beta$ given the data is  \n",
    "\n",
    "\n",
    "$$\\mathcal{P}(\\beta|x^{(i)},y^{(i)},1\\leq i\\leq N)\\propto \\mathcal{P}(\\beta)\\mathcal{P}(y^{(i)},1\\leq i\\leq N|\\beta,x^{(i)}).$$\n",
    "\n",
    "\n",
    "The **Bayesian** estimation aims to maximaze the posterior distribution. It is formally termed as **Maximum A-Posteriori Estimation (MAP)**. Note that \n",
    "\n",
    "\n",
    "$$\\text{argmax}_{\\beta}\\mathcal{P}(\\beta|x^{(i)},y^{(i)},1\\leq i\\leq N)=\\text{argmax}_{\\beta}\\ln\\mathcal{P}(\\beta|x^{(i)},y^{(i)},1\\leq i\\leq N)$$\n",
    "\n",
    "\n",
    "- Case 1: The prior distribution $\\mathcal{P}(\\beta_{i}=x)\\propto \\exp(-x^{2}), i\\geq 1$ is Gaussian-like, and different $\\beta_{i}$ are independent. Now the minimization problem becomes \n",
    "\n",
    "    $$\\min_{\\beta} ||Y-\\tilde{X}\\beta||_{2}^2+\\lambda||\\beta||_{2}^{2}.$$\n",
    "\n",
    "    here $||\\beta||_{2}^{2}=\\sum_{i=1}^{p}\\beta_{i}^{2}.$\n",
    "    This is called **Ridge Regression**. \n",
    "    \n",
    "    \n",
    "- Case 2: The prior distribution $\\mathcal{P}(\\beta_{i}=x)\\propto \\exp(-|x|), i\\geq 1$ is double-exponential like, and different $\\beta_{i}$ are independent. Now the minimization problem becomes \n",
    "\n",
    "    $$\\min_{\\beta} ||Y-\\tilde{X}\\beta||_{2}^2+\\lambda\\sum_{i=1}^{p}|\\beta_{i}|$$\n",
    "    \n",
    "    This is called [**LASSO Regression**](https://en.wikipedia.org/wiki/Lasso_(statistics)).\n",
    "    \n",
    "    \n",
    "    \n",
    "In general, these additional terms are called the **regularization terms**. In statistics, regularization is equivalent to Bayesian prior. Here $\\lambda$ is the adjustable parameter in algorithm --  its choice is empirical while sometimes very important for model performance (where the word \"alchemy\" arises in machine learning) Roughly it controls the **complexity** of the model:\n",
    "\n",
    "- If $\\lambda\\to\\infty$, we have $\\beta_{i}\\to 0 (i\\geq 1)$ and $\\beta_{0} = \\bar{y}$.\n",
    "- If $\\lambda\\to 0 $, it will yield the same results with OLS.\n",
    "\n",
    "Why control the complexity? Recall the bias-variance tradeoff -- sometimes reduce the complexity of model **might** help to improve performace in test dataset.\n",
    "\n",
    "### Algorithm consideration## \n",
    "\n",
    "The optimization for ridge regression is similar to OLS -- try to derive the analytical solution your self. The optimization for LASSO is [non-trival](https://www.cs.ubc.ca/~schmidtm/Documents/2005_Notes_Lasso.pdf) and is the important topic in convex optimization. \n",
    "\n",
    "### Prediction in Test Data\n",
    "\n",
    "Now from the same training dataset, we have three $\\beta$ estimated from three different models, namely $\\hat{\\beta}^{OLS},\\hat{\\beta}^{Ridge},\\hat{\\beta}^{Lasso}$ because they are the minimizers of three different loss functions.\n",
    "\n",
    "Given the new observation called $x^{(test)}$, the formal expression of predictions from different methods are the same $$\\hat{y}^{(test)}=\\hat{\\beta}_{0}+\\hat{\\beta}_{1}x^{(test)}_{1}+..+\\hat{\\beta}_{p}x^{(test)}_{p} = \\tilde{x}^{(test)}\\hat{\\beta}.$$\n",
    "\n",
    "The **only** difference is what $\\hat{\\beta}$ we use. Of course, the corresponded prediction values are also different.\n",
    "\n",
    "### Model Performance Evaluation\n",
    "\n",
    "   - Mean Square Error (MSE) -- the lower, the better (in test data):  $\\frac{1}{N}\\sum_{i=1}^{N}(y^{(i)}-\\hat{y}^{(i)})^{2}$\n",
    "   - R-squared (coefficient of determination, $R^{2}$) -- the larger, the better (in test data): $1 - \\frac{\\sum_{i=1}^{N}(y^{(i)}-\\hat{y}^{(i)})^{2}}{\\sum_{i=1}^{N}(y^{(i)}-\\bar{y})^{2}}$\n",
    "   \n",
    "\n",
    "Question: What about on the training dataset?\n",
    "\n",
    "Conclusion: **By definition**, compared with Ridge or LASSO regression, OLS **will be sure** to have the smallest MSE (hence largest $R^{2}$) on **training dataset**. Think why!"
   ]
  },
  {
   "cell_type": "markdown",
   "metadata": {},
   "source": [
    "## Example: Diabetes Dataset\n",
    "\n",
    "We use the [scikit-learn package](https://scikit-learn.org/stable/index.html) to load the data and run regression. More tutorials about linear models can be [found here](https://scikit-learn.org/stable/modules/linear_model.html).\n",
    "\n",
    "Data from [this paper](https://web.stanford.edu/~hastie/Papers/LARS/LeastAngle_2002.pdf) by Professor [Robert Tibshirani et al](https://statweb.stanford.edu/~tibs/index.html)."
   ]
  },
  {
   "cell_type": "code",
   "execution_count": 18,
   "metadata": {},
   "outputs": [],
   "source": [
    "from sklearn import datasets\n",
    "X,y= datasets.load_diabetes(return_X_y = True)"
   ]
  },
  {
   "cell_type": "code",
   "execution_count": 19,
   "metadata": {},
   "outputs": [
    {
     "name": "stdout",
     "output_type": "stream",
     "text": [
      "Help on function load_diabetes in module sklearn.datasets._base:\n",
      "\n",
      "load_diabetes(*, return_X_y=False, as_frame=False)\n",
      "    Load and return the diabetes dataset (regression).\n",
      "    \n",
      "    ==============   ==================\n",
      "    Samples total    442\n",
      "    Dimensionality   10\n",
      "    Features         real, -.2 < x < .2\n",
      "    Targets          integer 25 - 346\n",
      "    ==============   ==================\n",
      "    \n",
      "    Read more in the :ref:`User Guide <diabetes_dataset>`.\n",
      "    \n",
      "    Parameters\n",
      "    ----------\n",
      "    return_X_y : bool, default=False.\n",
      "        If True, returns ``(data, target)`` instead of a Bunch object.\n",
      "        See below for more information about the `data` and `target` object.\n",
      "    \n",
      "        .. versionadded:: 0.18\n",
      "    \n",
      "    as_frame : bool, default=False\n",
      "        If True, the data is a pandas DataFrame including columns with\n",
      "        appropriate dtypes (numeric). The target is\n",
      "        a pandas DataFrame or Series depending on the number of target columns.\n",
      "        If `return_X_y` is True, then (`data`, `target`) will be pandas\n",
      "        DataFrames or Series as described below.\n",
      "    \n",
      "        .. versionadded:: 0.23\n",
      "    \n",
      "    Returns\n",
      "    -------\n",
      "    data : :class:`~sklearn.utils.Bunch`\n",
      "        Dictionary-like object, with the following attributes.\n",
      "    \n",
      "        data : {ndarray, dataframe} of shape (442, 10)\n",
      "            The data matrix. If `as_frame=True`, `data` will be a pandas\n",
      "            DataFrame.\n",
      "        target: {ndarray, Series} of shape (442,)\n",
      "            The regression target. If `as_frame=True`, `target` will be\n",
      "            a pandas Series.\n",
      "        feature_names: list\n",
      "            The names of the dataset columns.\n",
      "        frame: DataFrame of shape (442, 11)\n",
      "            Only present when `as_frame=True`. DataFrame with `data` and\n",
      "            `target`.\n",
      "    \n",
      "            .. versionadded:: 0.23\n",
      "        DESCR: str\n",
      "            The full description of the dataset.\n",
      "        data_filename: str\n",
      "            The path to the location of the data.\n",
      "        target_filename: str\n",
      "            The path to the location of the target.\n",
      "    \n",
      "    (data, target) : tuple if ``return_X_y`` is True\n",
      "    \n",
      "        .. versionadded:: 0.18\n",
      "\n"
     ]
    }
   ],
   "source": [
    "help(datasets.load_diabetes)"
   ]
  },
  {
   "cell_type": "markdown",
   "metadata": {},
   "source": [
    "Generate the training and test dataset by random splitting"
   ]
  },
  {
   "cell_type": "code",
   "execution_count": 20,
   "metadata": {},
   "outputs": [],
   "source": [
    "from sklearn.model_selection import train_test_split\n",
    "X_train, X_test, y_train, y_test = train_test_split(X, y, test_size=0.1, random_state=42)"
   ]
  },
  {
   "cell_type": "code",
   "execution_count": 21,
   "metadata": {},
   "outputs": [
    {
     "name": "stdout",
     "output_type": "stream",
     "text": [
      "(397, 10)\n",
      "(45,)\n"
     ]
    }
   ],
   "source": [
    "print(X_train.shape)\n",
    "print(y_test.shape)"
   ]
  },
  {
   "cell_type": "code",
   "execution_count": 22,
   "metadata": {},
   "outputs": [
    {
     "name": "stdout",
     "output_type": "stream",
     "text": [
      "Help on function train_test_split in module sklearn.model_selection._split:\n",
      "\n",
      "train_test_split(*arrays, **options)\n",
      "    Split arrays or matrices into random train and test subsets\n",
      "    \n",
      "    Quick utility that wraps input validation and\n",
      "    ``next(ShuffleSplit().split(X, y))`` and application to input data\n",
      "    into a single call for splitting (and optionally subsampling) data in a\n",
      "    oneliner.\n",
      "    \n",
      "    Read more in the :ref:`User Guide <cross_validation>`.\n",
      "    \n",
      "    Parameters\n",
      "    ----------\n",
      "    *arrays : sequence of indexables with same length / shape[0]\n",
      "        Allowed inputs are lists, numpy arrays, scipy-sparse\n",
      "        matrices or pandas dataframes.\n",
      "    \n",
      "    test_size : float or int, default=None\n",
      "        If float, should be between 0.0 and 1.0 and represent the proportion\n",
      "        of the dataset to include in the test split. If int, represents the\n",
      "        absolute number of test samples. If None, the value is set to the\n",
      "        complement of the train size. If ``train_size`` is also None, it will\n",
      "        be set to 0.25.\n",
      "    \n",
      "    train_size : float or int, default=None\n",
      "        If float, should be between 0.0 and 1.0 and represent the\n",
      "        proportion of the dataset to include in the train split. If\n",
      "        int, represents the absolute number of train samples. If None,\n",
      "        the value is automatically set to the complement of the test size.\n",
      "    \n",
      "    random_state : int or RandomState instance, default=None\n",
      "        Controls the shuffling applied to the data before applying the split.\n",
      "        Pass an int for reproducible output across multiple function calls.\n",
      "        See :term:`Glossary <random_state>`.\n",
      "    \n",
      "    \n",
      "    shuffle : bool, default=True\n",
      "        Whether or not to shuffle the data before splitting. If shuffle=False\n",
      "        then stratify must be None.\n",
      "    \n",
      "    stratify : array-like, default=None\n",
      "        If not None, data is split in a stratified fashion, using this as\n",
      "        the class labels.\n",
      "    \n",
      "    Returns\n",
      "    -------\n",
      "    splitting : list, length=2 * len(arrays)\n",
      "        List containing train-test split of inputs.\n",
      "    \n",
      "        .. versionadded:: 0.16\n",
      "            If the input is sparse, the output will be a\n",
      "            ``scipy.sparse.csr_matrix``. Else, output type is the same as the\n",
      "            input type.\n",
      "    \n",
      "    Examples\n",
      "    --------\n",
      "    >>> import numpy as np\n",
      "    >>> from sklearn.model_selection import train_test_split\n",
      "    >>> X, y = np.arange(10).reshape((5, 2)), range(5)\n",
      "    >>> X\n",
      "    array([[0, 1],\n",
      "           [2, 3],\n",
      "           [4, 5],\n",
      "           [6, 7],\n",
      "           [8, 9]])\n",
      "    >>> list(y)\n",
      "    [0, 1, 2, 3, 4]\n",
      "    \n",
      "    >>> X_train, X_test, y_train, y_test = train_test_split(\n",
      "    ...     X, y, test_size=0.33, random_state=42)\n",
      "    ...\n",
      "    >>> X_train\n",
      "    array([[4, 5],\n",
      "           [0, 1],\n",
      "           [6, 7]])\n",
      "    >>> y_train\n",
      "    [2, 0, 3]\n",
      "    >>> X_test\n",
      "    array([[2, 3],\n",
      "           [8, 9]])\n",
      "    >>> y_test\n",
      "    [1, 4]\n",
      "    \n",
      "    >>> train_test_split(y, shuffle=False)\n",
      "    [[0, 1, 2], [3, 4]]\n",
      "\n"
     ]
    }
   ],
   "source": [
    "help(train_test_split)"
   ]
  },
  {
   "cell_type": "markdown",
   "metadata": {},
   "source": [
    "Ordinary Least Square (OLS) Linear Regression"
   ]
  },
  {
   "cell_type": "code",
   "execution_count": 23,
   "metadata": {},
   "outputs": [
    {
     "data": {
      "text/plain": [
       "LinearRegression()"
      ]
     },
     "execution_count": 23,
     "metadata": {},
     "output_type": "execute_result"
    }
   ],
   "source": [
    "from sklearn import linear_model\n",
    "reg_ols = linear_model.LinearRegression()\n",
    "reg_ols.fit(X_train,y_train) # train the parameters in training dataset"
   ]
  },
  {
   "cell_type": "code",
   "execution_count": 24,
   "metadata": {},
   "outputs": [
    {
     "data": {
      "text/plain": [
       "['__abstractmethods__',\n",
       " '__class__',\n",
       " '__delattr__',\n",
       " '__dict__',\n",
       " '__dir__',\n",
       " '__doc__',\n",
       " '__eq__',\n",
       " '__format__',\n",
       " '__ge__',\n",
       " '__getattribute__',\n",
       " '__getstate__',\n",
       " '__gt__',\n",
       " '__hash__',\n",
       " '__init__',\n",
       " '__init_subclass__',\n",
       " '__le__',\n",
       " '__lt__',\n",
       " '__module__',\n",
       " '__ne__',\n",
       " '__new__',\n",
       " '__reduce__',\n",
       " '__reduce_ex__',\n",
       " '__repr__',\n",
       " '__setattr__',\n",
       " '__setstate__',\n",
       " '__sizeof__',\n",
       " '__str__',\n",
       " '__subclasshook__',\n",
       " '__weakref__',\n",
       " '_abc_impl',\n",
       " '_check_n_features',\n",
       " '_decision_function',\n",
       " '_estimator_type',\n",
       " '_get_param_names',\n",
       " '_get_tags',\n",
       " '_more_tags',\n",
       " '_preprocess_data',\n",
       " '_repr_html_',\n",
       " '_repr_html_inner',\n",
       " '_repr_mimebundle_',\n",
       " '_residues',\n",
       " '_set_intercept',\n",
       " '_validate_data',\n",
       " 'coef_',\n",
       " 'copy_X',\n",
       " 'fit',\n",
       " 'fit_intercept',\n",
       " 'get_params',\n",
       " 'intercept_',\n",
       " 'n_features_in_',\n",
       " 'n_jobs',\n",
       " 'normalize',\n",
       " 'predict',\n",
       " 'rank_',\n",
       " 'score',\n",
       " 'set_params',\n",
       " 'singular_']"
      ]
     },
     "execution_count": 24,
     "metadata": {},
     "output_type": "execute_result"
    }
   ],
   "source": [
    "dir(reg_ols)"
   ]
  },
  {
   "cell_type": "code",
   "execution_count": 25,
   "metadata": {},
   "outputs": [
    {
     "data": {
      "text/plain": [
       "array([  19.92576904, -262.55453086,  509.19112446,  336.09693678,\n",
       "       -849.29530342,  480.22076125,  120.68418641,  236.71853501,\n",
       "        716.61035542,   70.41045019])"
      ]
     },
     "execution_count": 25,
     "metadata": {},
     "output_type": "execute_result"
    }
   ],
   "source": [
    "reg_ols.coef_"
   ]
  },
  {
   "cell_type": "code",
   "execution_count": 26,
   "metadata": {},
   "outputs": [
    {
     "data": {
      "text/plain": [
       "array([143.06621271, 177.70923973, 134.80159283, 288.66523611,\n",
       "       123.58429291,  96.64399491, 252.70865552, 183.51563317,\n",
       "        93.96508916, 109.83316004,  98.04648824, 168.61502622,\n",
       "        58.09759262, 206.5896178 , 102.4078438 , 130.25693511,\n",
       "       218.0570909 , 245.9207401 , 193.24351477, 214.36945188,\n",
       "       208.82778064,  90.55665059,  74.15304744, 187.1216387 ,\n",
       "       156.36442036, 157.46376883, 184.17736744, 177.18027887,\n",
       "        52.24263585, 110.66673778, 174.05918425,  90.89850309,\n",
       "       133.07968763, 183.22988596, 173.93725211, 189.85248233,\n",
       "       125.86458581, 121.53390004, 148.94895292,  60.82842472,\n",
       "        76.36312191, 106.40220555, 162.20473499, 153.15077269,\n",
       "       174.23003255])"
      ]
     },
     "execution_count": 26,
     "metadata": {},
     "output_type": "execute_result"
    }
   ],
   "source": [
    "y_pred_ols = reg_ols.predict(X_test) # generate predictions in test dataset\n",
    "y_pred_ols"
   ]
  },
  {
   "cell_type": "code",
   "execution_count": 27,
   "metadata": {},
   "outputs": [
    {
     "name": "stdout",
     "output_type": "stream",
     "text": [
      "2743.8800467688443 0.5514251914993505\n"
     ]
    }
   ],
   "source": [
    "from sklearn.metrics import mean_squared_error\n",
    "mse_ols = mean_squared_error(y_test, y_pred_ols)\n",
    "R2_ols =  reg_ols.score(X_test,y_test) # the R-squared value -- how good is the fitting in test dataset?\n",
    "print(mse_ols,R2_ols)"
   ]
  },
  {
   "cell_type": "code",
   "execution_count": 28,
   "metadata": {},
   "outputs": [
    {
     "name": "stdout",
     "output_type": "stream",
     "text": [
      "[  21.70557246 -252.8105591   507.97196544  328.21420703 -280.47609687\n",
      "   37.89517179 -127.46013757  163.28415598  497.87046059   77.00701528]\n",
      "2735.677504142067 0.5527661590071533\n"
     ]
    }
   ],
   "source": [
    "reg_ridge = linear_model.Ridge(alpha=.02) # alpha is proportional to the lambda above -- only up to the constant\n",
    "reg_ridge.fit(X_train,y_train)\n",
    "print(reg_ridge.coef_)\n",
    "\n",
    "y_pred_ridge = reg_ridge.predict(X_test)\n",
    "mse_ridge = mean_squared_error(y_test, y_pred_ridge)\n",
    "R2_ridge =  reg_ridge.score(X_test,y_test)\n",
    "print(mse_ridge,R2_ridge)"
   ]
  },
  {
   "cell_type": "code",
   "execution_count": 29,
   "metadata": {},
   "outputs": [
    {
     "name": "stdout",
     "output_type": "stream",
     "text": [
      "[   0.         -173.66792464  510.09537263  286.77901824  -64.43166585\n",
      "   -0.         -226.79324775    0.          453.3557073    44.84749075]\n",
      "2636.3323830017634 0.569007291247414\n"
     ]
    }
   ],
   "source": [
    "reg_lasso = linear_model.Lasso(alpha=0.1) # alpha is proportional to the lambda above -- only up to the constant\n",
    "reg_lasso.fit(X_train,y_train)\n",
    "print(reg_lasso.coef_)\n",
    "\n",
    "y_pred_lasso = reg_lasso.predict(X_test)\n",
    "mse_lasso = mean_squared_error(y_test, y_pred_lasso)\n",
    "R2_lasso =  reg_lasso.score(X_test,y_test)\n",
    "print(mse_lasso,R2_lasso)"
   ]
  },
  {
   "cell_type": "code",
   "execution_count": 30,
   "metadata": {},
   "outputs": [
    {
     "name": "stdout",
     "output_type": "stream",
     "text": [
      "0.5125152248773208\n",
      "0.5102072320833588\n",
      "0.5024076500883519\n"
     ]
    }
   ],
   "source": [
    "print(reg_ols.score(X_train,y_train)) # note that we calculate score on TRAINING dataset\n",
    "print(reg_ridge.score(X_train,y_train))\n",
    "print(reg_lasso.score(X_train,y_train))"
   ]
  },
  {
   "cell_type": "markdown",
   "metadata": {},
   "source": [
    "By definition, OLS has the smallest MSE (largest R-squared) on **training dataset**. What about on the test dataset?"
   ]
  },
  {
   "cell_type": "code",
   "execution_count": 31,
   "metadata": {},
   "outputs": [],
   "source": [
    "import numpy as np\n",
    "train_errors = list()\n",
    "test_errors = list()\n",
    "alphas = np.logspace(-5, -1, 20)\n",
    "for alpha in alphas:\n",
    "    reg_lasso.set_params(alpha=alpha) # change the parameter of reg_lasso\n",
    "    reg_lasso.fit(X_train, y_train)\n",
    "    train_errors.append(reg_lasso.score(X_train, y_train))\n",
    "    test_errors.append(reg_lasso.score(X_test, y_test))"
   ]
  },
  {
   "cell_type": "code",
   "execution_count": 32,
   "metadata": {},
   "outputs": [
    {
     "data": {
      "text/plain": [
       "<matplotlib.legend.Legend at 0x7fd05fd07810>"
      ]
     },
     "execution_count": 32,
     "metadata": {},
     "output_type": "execute_result"
    },
    {
     "data": {
      "image/png": "[encoded data removed]",
      "text/plain": [
       "<Figure size 600x400 with 1 Axes>"
      ]
     },
     "metadata": {
      "needs_background": "light"
     },
     "output_type": "display_data"
    }
   ],
   "source": [
    "import matplotlib.pyplot as plt\n",
    "fig = plt.figure(dpi=100)\n",
    "plt.semilogx(alphas,train_errors,label = 'train R2')\n",
    "plt.semilogx(alphas,test_errors,label = 'test R2')\n",
    "plt.xlabel('alpha')\n",
    "plt.legend()"
   ]
  },
  {
   "cell_type": "markdown",
   "metadata": {},
   "source": [
    "Therefore, a good model in training dataset does not mean it's a good model in the final test dataset. Then how can we use the best model (i.e. model with best regularization parameters)?"
   ]
  },
  {
   "cell_type": "markdown",
   "metadata": {},
   "source": [
    "### [Cross Validation](https://scikit-learn.org/stable/modules/cross_validation.html)\n",
    "\n",
    "What if we don't know the true labels in test, but the performance in test is so important to us so that we really want to select a model with greater confidence with traning dataset?\n",
    "\n",
    "As discussed previously, we can use traning dataset to make 10 \"quizzes\" (each \"quiz\" is called a validation dataset), and let the three models to compete based on the 10 \"competitions\". This is called 10-fold cross-validation.\n",
    "\n",
    "For the more detailed discussion and distinguishment between training, validation and test datasets, you can refer to this [wikipedia link](https://en.wikipedia.org/wiki/Training,_validation,_and_test_sets#Test_dataset)."
   ]
  },
  {
   "cell_type": "code",
   "execution_count": 33,
   "metadata": {},
   "outputs": [],
   "source": [
    "from sklearn.model_selection import cross_val_score\n",
    "scores_lasso = cross_val_score(reg_lasso, X_train, y_train, cv=10) # cross-validation function in sklearn\n",
    "scores_ridge = cross_val_score(reg_ridge, X_train, y_train, cv=10)\n",
    "scores_ols = cross_val_score(reg_ols, X_train, y_train, cv=10)"
   ]
  },
  {
   "cell_type": "code",
   "execution_count": 34,
   "metadata": {},
   "outputs": [
    {
     "name": "stdout",
     "output_type": "stream",
     "text": [
      "[0.24777555 0.59326777 0.47897959 0.5352791  0.32317178 0.47569164\n",
      " 0.6518041  0.56942576 0.25184587 0.36446431]\n",
      "[0.24342237 0.57522902 0.52325584 0.53031117 0.34021405 0.48194162\n",
      " 0.6585968  0.57423334 0.24263773 0.33362724]\n",
      "[0.23604669 0.57037558 0.53700808 0.52611281 0.34264557 0.49282279\n",
      " 0.66256801 0.57878559 0.19975324 0.34375095]\n"
     ]
    }
   ],
   "source": [
    "print(scores_lasso)\n",
    "print(scores_ridge)\n",
    "print(scores_ols)"
   ]
  },
  {
   "cell_type": "code",
   "execution_count": 35,
   "metadata": {},
   "outputs": [
    {
     "name": "stdout",
     "output_type": "stream",
     "text": [
      "Help on function cross_val_score in module sklearn.model_selection._validation:\n",
      "\n",
      "cross_val_score(estimator, X, y=None, *, groups=None, scoring=None, cv=None, n_jobs=None, verbose=0, fit_params=None, pre_dispatch='2*n_jobs', error_score=nan)\n",
      "    Evaluate a score by cross-validation\n",
      "    \n",
      "    Read more in the :ref:`User Guide <cross_validation>`.\n",
      "    \n",
      "    Parameters\n",
      "    ----------\n",
      "    estimator : estimator object implementing 'fit'\n",
      "        The object to use to fit the data.\n",
      "    \n",
      "    X : array-like of shape (n_samples, n_features)\n",
      "        The data to fit. Can be for example a list, or an array.\n",
      "    \n",
      "    y : array-like of shape (n_samples,) or (n_samples, n_outputs),             default=None\n",
      "        The target variable to try to predict in the case of\n",
      "        supervised learning.\n",
      "    \n",
      "    groups : array-like of shape (n_samples,), default=None\n",
      "        Group labels for the samples used while splitting the dataset into\n",
      "        train/test set. Only used in conjunction with a \"Group\" :term:`cv`\n",
      "        instance (e.g., :class:`GroupKFold`).\n",
      "    \n",
      "    scoring : str or callable, default=None\n",
      "        A str (see model evaluation documentation) or\n",
      "        a scorer callable object / function with signature\n",
      "        ``scorer(estimator, X, y)`` which should return only\n",
      "        a single value.\n",
      "    \n",
      "        Similar to :func:`cross_validate`\n",
      "        but only a single metric is permitted.\n",
      "    \n",
      "        If None, the estimator's default scorer (if available) is used.\n",
      "    \n",
      "    cv : int, cross-validation generator or an iterable, default=None\n",
      "        Determines the cross-validation splitting strategy.\n",
      "        Possible inputs for cv are:\n",
      "    \n",
      "        - None, to use the default 5-fold cross validation,\n",
      "        - int, to specify the number of folds in a `(Stratified)KFold`,\n",
      "        - :term:`CV splitter`,\n",
      "        - An iterable yielding (train, test) splits as arrays of indices.\n",
      "    \n",
      "        For int/None inputs, if the estimator is a classifier and ``y`` is\n",
      "        either binary or multiclass, :class:`StratifiedKFold` is used. In all\n",
      "        other cases, :class:`KFold` is used.\n",
      "    \n",
      "        Refer :ref:`User Guide <cross_validation>` for the various\n",
      "        cross-validation strategies that can be used here.\n",
      "    \n",
      "        .. versionchanged:: 0.22\n",
      "            ``cv`` default value if None changed from 3-fold to 5-fold.\n",
      "    \n",
      "    n_jobs : int, default=None\n",
      "        The number of CPUs to use to do the computation.\n",
      "        ``None`` means 1 unless in a :obj:`joblib.parallel_backend` context.\n",
      "        ``-1`` means using all processors. See :term:`Glossary <n_jobs>`\n",
      "        for more details.\n",
      "    \n",
      "    verbose : int, default=0\n",
      "        The verbosity level.\n",
      "    \n",
      "    fit_params : dict, default=None\n",
      "        Parameters to pass to the fit method of the estimator.\n",
      "    \n",
      "    pre_dispatch : int or str, default='2*n_jobs'\n",
      "        Controls the number of jobs that get dispatched during parallel\n",
      "        execution. Reducing this number can be useful to avoid an\n",
      "        explosion of memory consumption when more jobs get dispatched\n",
      "        than CPUs can process. This parameter can be:\n",
      "    \n",
      "            - None, in which case all the jobs are immediately\n",
      "              created and spawned. Use this for lightweight and\n",
      "              fast-running jobs, to avoid delays due to on-demand\n",
      "              spawning of the jobs\n",
      "    \n",
      "            - An int, giving the exact number of total jobs that are\n",
      "              spawned\n",
      "    \n",
      "            - A str, giving an expression as a function of n_jobs,\n",
      "              as in '2*n_jobs'\n",
      "    \n",
      "    error_score : 'raise' or numeric, default=np.nan\n",
      "        Value to assign to the score if an error occurs in estimator fitting.\n",
      "        If set to 'raise', the error is raised.\n",
      "        If a numeric value is given, FitFailedWarning is raised. This parameter\n",
      "        does not affect the refit step, which will always raise the error.\n",
      "    \n",
      "        .. versionadded:: 0.20\n",
      "    \n",
      "    Returns\n",
      "    -------\n",
      "    scores : array of float, shape=(len(list(cv)),)\n",
      "        Array of scores of the estimator for each run of the cross validation.\n",
      "    \n",
      "    Examples\n",
      "    --------\n",
      "    >>> from sklearn import datasets, linear_model\n",
      "    >>> from sklearn.model_selection import cross_val_score\n",
      "    >>> diabetes = datasets.load_diabetes()\n",
      "    >>> X = diabetes.data[:150]\n",
      "    >>> y = diabetes.target[:150]\n",
      "    >>> lasso = linear_model.Lasso()\n",
      "    >>> print(cross_val_score(lasso, X, y, cv=3))\n",
      "    [0.33150734 0.08022311 0.03531764]\n",
      "    \n",
      "    See Also\n",
      "    ---------\n",
      "    :func:`sklearn.model_selection.cross_validate`:\n",
      "        To run cross-validation on multiple metrics and also to return\n",
      "        train scores, fit times and score times.\n",
      "    \n",
      "    :func:`sklearn.model_selection.cross_val_predict`:\n",
      "        Get predictions from each split of cross-validation for diagnostic\n",
      "        purposes.\n",
      "    \n",
      "    :func:`sklearn.metrics.make_scorer`:\n",
      "        Make a scorer from a performance metric or loss function.\n",
      "\n"
     ]
    }
   ],
   "source": [
    "help(cross_val_score)"
   ]
  },
  {
   "cell_type": "code",
   "execution_count": 36,
   "metadata": {},
   "outputs": [
    {
     "data": {
      "text/html": [
       "<div>\n",
       "<style scoped>\n",
       "    .dataframe tbody tr th:only-of-type {\n",
       "        vertical-align: middle;\n",
       "    }\n",
       "\n",
       "    .dataframe tbody tr th {\n",
       "        vertical-align: top;\n",
       "    }\n",
       "\n",
       "    .dataframe thead th {\n",
       "        text-align: right;\n",
       "    }\n",
       "</style>\n",
       "<table border=\"1\" class=\"dataframe\">\n",
       "  <thead>\n",
       "    <tr style=\"text-align: right;\">\n",
       "      <th></th>\n",
       "      <th>lasso</th>\n",
       "      <th>ols</th>\n",
       "      <th>ridge</th>\n",
       "    </tr>\n",
       "  </thead>\n",
       "  <tbody>\n",
       "    <tr>\n",
       "      <th>0</th>\n",
       "      <td>0.247776</td>\n",
       "      <td>0.236047</td>\n",
       "      <td>0.243422</td>\n",
       "    </tr>\n",
       "    <tr>\n",
       "      <th>1</th>\n",
       "      <td>0.593268</td>\n",
       "      <td>0.570376</td>\n",
       "      <td>0.575229</td>\n",
       "    </tr>\n",
       "    <tr>\n",
       "      <th>2</th>\n",
       "      <td>0.478980</td>\n",
       "      <td>0.537008</td>\n",
       "      <td>0.523256</td>\n",
       "    </tr>\n",
       "    <tr>\n",
       "      <th>3</th>\n",
       "      <td>0.535279</td>\n",
       "      <td>0.526113</td>\n",
       "      <td>0.530311</td>\n",
       "    </tr>\n",
       "    <tr>\n",
       "      <th>4</th>\n",
       "      <td>0.323172</td>\n",
       "      <td>0.342646</td>\n",
       "      <td>0.340214</td>\n",
       "    </tr>\n",
       "    <tr>\n",
       "      <th>5</th>\n",
       "      <td>0.475692</td>\n",
       "      <td>0.492823</td>\n",
       "      <td>0.481942</td>\n",
       "    </tr>\n",
       "    <tr>\n",
       "      <th>6</th>\n",
       "      <td>0.651804</td>\n",
       "      <td>0.662568</td>\n",
       "      <td>0.658597</td>\n",
       "    </tr>\n",
       "    <tr>\n",
       "      <th>7</th>\n",
       "      <td>0.569426</td>\n",
       "      <td>0.578786</td>\n",
       "      <td>0.574233</td>\n",
       "    </tr>\n",
       "    <tr>\n",
       "      <th>8</th>\n",
       "      <td>0.251846</td>\n",
       "      <td>0.199753</td>\n",
       "      <td>0.242638</td>\n",
       "    </tr>\n",
       "    <tr>\n",
       "      <th>9</th>\n",
       "      <td>0.364464</td>\n",
       "      <td>0.343751</td>\n",
       "      <td>0.333627</td>\n",
       "    </tr>\n",
       "  </tbody>\n",
       "</table>\n",
       "</div>"
      ],
      "text/plain": [
       "      lasso       ols     ridge\n",
       "0  0.247776  0.236047  0.243422\n",
       "1  0.593268  0.570376  0.575229\n",
       "2  0.478980  0.537008  0.523256\n",
       "3  0.535279  0.526113  0.530311\n",
       "4  0.323172  0.342646  0.340214\n",
       "5  0.475692  0.492823  0.481942\n",
       "6  0.651804  0.662568  0.658597\n",
       "7  0.569426  0.578786  0.574233\n",
       "8  0.251846  0.199753  0.242638\n",
       "9  0.364464  0.343751  0.333627"
      ]
     },
     "execution_count": 36,
     "metadata": {},
     "output_type": "execute_result"
    }
   ],
   "source": [
    "import pandas as pd\n",
    "scores_all = pd.DataFrame({\"lasso\": scores_lasso,\"ols\": scores_ols, \"ridge\":scores_ridge})\n",
    "scores_all"
   ]
  },
  {
   "cell_type": "markdown",
   "metadata": {},
   "source": [
    "Besides mean and standard deviation, we can also use the [boxplot](https://towardsdatascience.com/understanding-boxplots-5e2df7bcbd51) to visualize the results."
   ]
  },
  {
   "cell_type": "code",
   "execution_count": 37,
   "metadata": {},
   "outputs": [
    {
     "data": {
      "text/plain": [
       "<AxesSubplot:>"
      ]
     },
     "execution_count": 37,
     "metadata": {},
     "output_type": "execute_result"
    },
    {
     "data": {
      "image/png": "[encoded data removed]",
      "text/plain": [
       "<Figure size 600x400 with 1 Axes>"
      ]
     },
     "metadata": {},
     "output_type": "display_data"
    }
   ],
   "source": [
    "import seaborn as sns\n",
    "sns.set_theme()\n",
    "fig, ax = plt.subplots(dpi=100)\n",
    "sns.boxplot(data = scores_all)"
   ]
  },
  {
   "cell_type": "code",
   "execution_count": 38,
   "metadata": {},
   "outputs": [
    {
     "data": {
      "text/html": [
       "<div>\n",
       "<style scoped>\n",
       "    .dataframe tbody tr th:only-of-type {\n",
       "        vertical-align: middle;\n",
       "    }\n",
       "\n",
       "    .dataframe tbody tr th {\n",
       "        vertical-align: top;\n",
       "    }\n",
       "\n",
       "    .dataframe thead th {\n",
       "        text-align: right;\n",
       "    }\n",
       "</style>\n",
       "<table border=\"1\" class=\"dataframe\">\n",
       "  <thead>\n",
       "    <tr style=\"text-align: right;\">\n",
       "      <th></th>\n",
       "      <th>lasso</th>\n",
       "      <th>ols</th>\n",
       "      <th>ridge</th>\n",
       "    </tr>\n",
       "  </thead>\n",
       "  <tbody>\n",
       "    <tr>\n",
       "      <th>count</th>\n",
       "      <td>10.000000</td>\n",
       "      <td>10.000000</td>\n",
       "      <td>10.000000</td>\n",
       "    </tr>\n",
       "    <tr>\n",
       "      <th>mean</th>\n",
       "      <td>0.449171</td>\n",
       "      <td>0.448987</td>\n",
       "      <td>0.450347</td>\n",
       "    </tr>\n",
       "    <tr>\n",
       "      <th>std</th>\n",
       "      <td>0.144468</td>\n",
       "      <td>0.157290</td>\n",
       "      <td>0.148598</td>\n",
       "    </tr>\n",
       "    <tr>\n",
       "      <th>min</th>\n",
       "      <td>0.247776</td>\n",
       "      <td>0.199753</td>\n",
       "      <td>0.242638</td>\n",
       "    </tr>\n",
       "    <tr>\n",
       "      <th>25%</th>\n",
       "      <td>0.333495</td>\n",
       "      <td>0.342922</td>\n",
       "      <td>0.335274</td>\n",
       "    </tr>\n",
       "    <tr>\n",
       "      <th>50%</th>\n",
       "      <td>0.477336</td>\n",
       "      <td>0.509468</td>\n",
       "      <td>0.502599</td>\n",
       "    </tr>\n",
       "    <tr>\n",
       "      <th>75%</th>\n",
       "      <td>0.560889</td>\n",
       "      <td>0.562034</td>\n",
       "      <td>0.563253</td>\n",
       "    </tr>\n",
       "    <tr>\n",
       "      <th>max</th>\n",
       "      <td>0.651804</td>\n",
       "      <td>0.662568</td>\n",
       "      <td>0.658597</td>\n",
       "    </tr>\n",
       "  </tbody>\n",
       "</table>\n",
       "</div>"
      ],
      "text/plain": [
       "           lasso        ols      ridge\n",
       "count  10.000000  10.000000  10.000000\n",
       "mean    0.449171   0.448987   0.450347\n",
       "std     0.144468   0.157290   0.148598\n",
       "min     0.247776   0.199753   0.242638\n",
       "25%     0.333495   0.342922   0.335274\n",
       "50%     0.477336   0.509468   0.502599\n",
       "75%     0.560889   0.562034   0.563253\n",
       "max     0.651804   0.662568   0.658597"
      ]
     },
     "execution_count": 38,
     "metadata": {},
     "output_type": "execute_result"
    }
   ],
   "source": [
    "scores_all.describe()"
   ]
  },
  {
   "cell_type": "markdown",
   "metadata": {},
   "source": [
    "Of course, the final judgement is still in the test dataset."
   ]
  },
  {
   "cell_type": "code",
   "execution_count": 39,
   "metadata": {},
   "outputs": [
    {
     "data": {
      "text/plain": [
       "0.569007291247414"
      ]
     },
     "execution_count": 39,
     "metadata": {},
     "output_type": "execute_result"
    }
   ],
   "source": [
    "reg_lasso.score(X_test,y_test)"
   ]
  },
  {
   "cell_type": "code",
   "execution_count": 40,
   "metadata": {},
   "outputs": [
    {
     "data": {
      "text/plain": [
       "0.5527661590071533"
      ]
     },
     "execution_count": 40,
     "metadata": {},
     "output_type": "execute_result"
    }
   ],
   "source": [
    "reg_ridge.score(X_test,y_test)"
   ]
  },
  {
   "cell_type": "code",
   "execution_count": 41,
   "metadata": {},
   "outputs": [
    {
     "data": {
      "text/plain": [
       "0.5514251914993505"
      ]
     },
     "execution_count": 41,
     "metadata": {},
     "output_type": "execute_result"
    }
   ],
   "source": [
    "reg_ols.score(X_test,y_test)"
   ]
  },
  {
   "cell_type": "markdown",
   "metadata": {},
   "source": [
    "Exercise: Use cross-validation to select the `alpha` parameter in LASSO"
   ]
  },
  {
   "cell_type": "code",
   "execution_count": null,
   "metadata": {},
   "outputs": [],
   "source": [
    "# your code here"
   ]
  },
  {
   "cell_type": "markdown",
   "metadata": {},
   "source": [
    "## Reference Reading Suggestions "
   ]
  },
  {
   "cell_type": "markdown",
   "metadata": {},
   "source": [
    "- ISLR: Chapter 2,3,6\n",
    "- ESL: Chapter 1,2,3\n",
    "- PML: Chapter 1,2,3,4,7,11\n",
    "- DL: Chapter 5"
   ]
  }
 ],
 "metadata": {
  "kernelspec": {
   "display_name": "Python 3",
   "language": "python",
   "name": "python3"
  },
  "language_info": {
   "codemirror_mode": {
    "name": "ipython",
    "version": 3
   },
   "file_extension": ".py",
   "mimetype": "text/x-python",
   "name": "python",
   "nbconvert_exporter": "python",
   "pygments_lexer": "ipython3",
   "version": "3.8.8"
  }
 },
 "nbformat": 4,
 "nbformat_minor": 4
}
