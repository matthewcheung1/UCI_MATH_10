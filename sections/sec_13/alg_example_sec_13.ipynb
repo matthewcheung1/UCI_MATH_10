{
 "cells": [
  {
   "cell_type": "markdown",
   "id": "59fde7e0",
   "metadata": {},
   "source": [
    "## Example of diagonalization of a symmetric matrix\n",
    "Plus the result of multiplying $T_k = XV_k$"
   ]
  },
  {
   "cell_type": "code",
   "execution_count": 14,
   "id": "40898b54",
   "metadata": {},
   "outputs": [
    {
     "data": {
      "text/plain": [
       "array([[2, 0, 3],\n",
       "       [9, 1, 6],\n",
       "       [8, 3, 6]])"
      ]
     },
     "execution_count": 14,
     "metadata": {},
     "output_type": "execute_result"
    }
   ],
   "source": [
    "import numpy as np\n",
    "A = np.random.randint(10,size=(3,3))\n",
    "A"
   ]
  },
  {
   "cell_type": "code",
   "execution_count": 15,
   "id": "3dd293c9",
   "metadata": {},
   "outputs": [],
   "source": [
    "Sigma = A.T*A #Always a symmetric matrix"
   ]
  },
  {
   "cell_type": "code",
   "execution_count": 16,
   "id": "7693d203",
   "metadata": {},
   "outputs": [
    {
     "data": {
      "text/plain": [
       "array([[ 4,  0, 24],\n",
       "       [ 0,  1, 18],\n",
       "       [24, 18, 36]])"
      ]
     },
     "execution_count": 16,
     "metadata": {},
     "output_type": "execute_result"
    }
   ],
   "source": [
    "Sigma"
   ]
  },
  {
   "cell_type": "code",
   "execution_count": 20,
   "id": "f7117e5f",
   "metadata": {},
   "outputs": [],
   "source": [
    "eig_val, eig_vec = np.linalg.eigh(Sigma)"
   ]
  },
  {
   "cell_type": "code",
   "execution_count": 21,
   "id": "7365cb4f",
   "metadata": {},
   "outputs": [
    {
     "data": {
      "text/plain": [
       "array([-14.88807747,   2.16025946,  53.72781801])"
      ]
     },
     "execution_count": 21,
     "metadata": {},
     "output_type": "execute_result"
    }
   ],
   "source": [
    "eig_val"
   ]
  },
  {
   "cell_type": "code",
   "execution_count": 22,
   "id": "b6ad0e39",
   "metadata": {},
   "outputs": [
    {
     "data": {
      "text/plain": [
       "array([[ 0.64357573,  0.64280791, -0.4154615 ],\n",
       "       [ 0.57382218, -0.76444095, -0.29386756],\n",
       "       [-0.50649618, -0.04927499, -0.86083308]])"
      ]
     },
     "execution_count": 22,
     "metadata": {},
     "output_type": "execute_result"
    }
   ],
   "source": [
    "V = eig_vec\n",
    "V"
   ]
  },
  {
   "cell_type": "code",
   "execution_count": 23,
   "id": "3804fac0",
   "metadata": {},
   "outputs": [
    {
     "data": {
      "text/plain": [
       "array([[-14.88807747,   0.        ,   0.        ],\n",
       "       [  0.        ,   2.16025946,   0.        ],\n",
       "       [  0.        ,   0.        ,  53.72781801]])"
      ]
     },
     "execution_count": 23,
     "metadata": {},
     "output_type": "execute_result"
    }
   ],
   "source": [
    "Lambda = np.diag(eig_val)\n",
    "Lambda"
   ]
  },
  {
   "cell_type": "code",
   "execution_count": 35,
   "id": "beee84a3",
   "metadata": {},
   "outputs": [
    {
     "data": {
      "text/plain": [
       "array([[ 4., -0., 24.],\n",
       "       [-0.,  1., 18.],\n",
       "       [24., 18., 36.]])"
      ]
     },
     "execution_count": 35,
     "metadata": {},
     "output_type": "execute_result"
    }
   ],
   "source": [
    "Verify = V@Lambda@V.T #when the orignal matrix is symmetric, this implies V is orthogonal and V.T equals V inverse.\n",
    "np.round(Verify)"
   ]
  },
  {
   "cell_type": "code",
   "execution_count": 40,
   "id": "2919b0ff",
   "metadata": {},
   "outputs": [
    {
     "data": {
      "text/plain": [
       "array([[ 0.64357573,  0.64280791],\n",
       "       [ 0.57382218, -0.76444095],\n",
       "       [-0.50649618, -0.04927499]])"
      ]
     },
     "execution_count": 40,
     "metadata": {},
     "output_type": "execute_result"
    }
   ],
   "source": [
    "k = 2\n",
    "Vk = V[:,:k]\n",
    "Vk"
   ]
  },
  {
   "cell_type": "code",
   "execution_count": 43,
   "id": "c86c031d",
   "metadata": {},
   "outputs": [
    {
     "data": {
      "text/plain": [
       "array([[-15.,  -0.,  -0.],\n",
       "       [ -0.,   2.,  -0.],\n",
       "       [  0.,  -0.,  54.]])"
      ]
     },
     "execution_count": 43,
     "metadata": {},
     "output_type": "execute_result"
    }
   ],
   "source": [
    "Verify2 = V.T@Sigma@V #returns eigenvalues\n",
    "np.round(Verify2)"
   ]
  },
  {
   "cell_type": "code",
   "execution_count": 46,
   "id": "3739a2ee",
   "metadata": {},
   "outputs": [
    {
     "data": {
      "text/plain": [
       "array([[-15.,  -0.],\n",
       "       [ -0.,   2.]])"
      ]
     },
     "execution_count": 46,
     "metadata": {},
     "output_type": "execute_result"
    }
   ],
   "source": [
    "Verify3 = Vk.T@Sigma@Vk #only returns first k eigenvalues\n",
    "np.round(Verify3)"
   ]
  },
  {
   "cell_type": "code",
   "execution_count": null,
   "id": "4e245aa6",
   "metadata": {},
   "outputs": [],
   "source": []
  }
 ],
 "metadata": {
  "kernelspec": {
   "display_name": "Python 3",
   "language": "python",
   "name": "python3"
  },
  "language_info": {
   "codemirror_mode": {
    "name": "ipython",
    "version": 3
   },
   "file_extension": ".py",
   "mimetype": "text/x-python",
   "name": "python",
   "nbconvert_exporter": "python",
   "pygments_lexer": "ipython3",
   "version": "3.8.8"
  }
 },
 "nbformat": 4,
 "nbformat_minor": 5
}
