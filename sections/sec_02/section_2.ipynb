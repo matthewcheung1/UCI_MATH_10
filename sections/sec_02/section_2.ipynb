{
 "cells": [
  {
   "cell_type": "markdown",
   "metadata": {
    "slideshow": {
     "slide_type": "slide"
    }
   },
   "source": [
    "# Section 2 Expressions, Variables and Objects"
   ]
  },
  {
   "cell_type": "markdown",
   "metadata": {
    "slideshow": {
     "slide_type": "fragment"
    }
   },
   "source": [
    "There is one famous saying: *Everything is an object in Python!*\n",
    "\n",
    "In Python, each object has \n",
    "- an identity,\n",
    "- a type, and\n",
    "- a value\n"
   ]
  },
  {
   "cell_type": "markdown",
   "metadata": {
    "slideshow": {
     "slide_type": "slide"
    }
   },
   "source": [
    "## Identity and id( )\n",
    "\n",
    "Roughly speaking, the id( ) function returns an integer called identity, representing the unique memory address of an object."
   ]
  },
  {
   "cell_type": "code",
   "execution_count": 1,
   "metadata": {
    "slideshow": {
     "slide_type": "fragment"
    }
   },
   "outputs": [
    {
     "name": "stdout",
     "output_type": "stream",
     "text": [
      "2262057953360\n",
      "140720502286192\n",
      "140720502286192\n"
     ]
    }
   ],
   "source": [
    "print(id(3.0))\n",
    "print(id(3)) # integer 3 has an identity\n",
    "print(id(3))"
   ]
  },
  {
   "cell_type": "code",
   "execution_count": 2,
   "metadata": {
    "slideshow": {
     "slide_type": "fragment"
    }
   },
   "outputs": [
    {
     "name": "stdout",
     "output_type": "stream",
     "text": [
      "2262058744688\n",
      "2262059373104\n",
      "140720502286256\n",
      "140720502286256\n"
     ]
    }
   ],
   "source": [
    "print(id(5.0)) # float 5 has different identity\n",
    "print(id(5.0))\n",
    "print(id(5))\n",
    "print(id(5))"
   ]
  },
  {
   "cell_type": "code",
   "execution_count": 3,
   "metadata": {
    "slideshow": {
     "slide_type": "fragment"
    }
   },
   "outputs": [
    {
     "name": "stdout",
     "output_type": "stream",
     "text": [
      "2262027564592\n",
      "2262027564592\n"
     ]
    }
   ],
   "source": [
    "print(id(\"python\"))# string 'python' has an identity. Btw, there is no difference between \"\" and ''\n",
    "print(id('python'))"
   ]
  },
  {
   "cell_type": "code",
   "execution_count": 4,
   "metadata": {
    "slideshow": {
     "slide_type": "fragment"
    }
   },
   "outputs": [
    {
     "data": {
      "text/plain": [
       "2262059248704"
      ]
     },
     "execution_count": 4,
     "metadata": {},
     "output_type": "execute_result"
    }
   ],
   "source": [
    "id([1,2,3]) # list [1,2,3] has another identity"
   ]
  },
  {
   "cell_type": "code",
   "execution_count": 5,
   "metadata": {
    "slideshow": {
     "slide_type": "fragment"
    }
   },
   "outputs": [
    {
     "data": {
      "text/plain": [
       "2261989590016"
      ]
     },
     "execution_count": 5,
     "metadata": {},
     "output_type": "execute_result"
    }
   ],
   "source": [
    "id(abs) # built-in function abs also has an unique indentity!"
   ]
  },
  {
   "cell_type": "code",
   "execution_count": 6,
   "metadata": {},
   "outputs": [
    {
     "data": {
      "text/plain": [
       "140720502286192"
      ]
     },
     "execution_count": 6,
     "metadata": {},
     "output_type": "execute_result"
    }
   ],
   "source": [
    "a = 3\n",
    "id(a) #exactly the same as id(3) !!! a points to 3 in the memory"
   ]
  },
  {
   "cell_type": "markdown",
   "metadata": {
    "slideshow": {
     "slide_type": "slide"
    }
   },
   "source": [
    "## Type and type( )\n",
    "\n",
    "Below are the common built-in types of Python. We're going to define our own types later using Class in Python. Popular data science packages also define their own types."
   ]
  },
  {
   "cell_type": "code",
   "execution_count": 7,
   "metadata": {
    "slideshow": {
     "slide_type": "fragment"
    }
   },
   "outputs": [
    {
     "data": {
      "text/plain": [
       "int"
      ]
     },
     "execution_count": 7,
     "metadata": {},
     "output_type": "execute_result"
    }
   ],
   "source": [
    "type(4) "
   ]
  },
  {
   "cell_type": "code",
   "execution_count": 8,
   "metadata": {
    "slideshow": {
     "slide_type": "fragment"
    }
   },
   "outputs": [
    {
     "name": "stdout",
     "output_type": "stream",
     "text": [
      "<class 'bool'>\n",
      "<class 'bool'>\n"
     ]
    }
   ],
   "source": [
    "print(type(True))\n",
    "print(type(3==5))"
   ]
  },
  {
   "cell_type": "code",
   "execution_count": 9,
   "metadata": {
    "slideshow": {
     "slide_type": "fragment"
    }
   },
   "outputs": [
    {
     "data": {
      "text/plain": [
       "float"
      ]
     },
     "execution_count": 9,
     "metadata": {},
     "output_type": "execute_result"
    }
   ],
   "source": [
    "type(5.)"
   ]
  },
  {
   "cell_type": "code",
   "execution_count": 10,
   "metadata": {
    "slideshow": {
     "slide_type": "fragment"
    }
   },
   "outputs": [
    {
     "data": {
      "text/plain": [
       "str"
      ]
     },
     "execution_count": 10,
     "metadata": {},
     "output_type": "execute_result"
    }
   ],
   "source": [
    "type('python')"
   ]
  },
  {
   "cell_type": "code",
   "execution_count": 11,
   "metadata": {
    "slideshow": {
     "slide_type": "fragment"
    }
   },
   "outputs": [
    {
     "data": {
      "text/plain": [
       "list"
      ]
     },
     "execution_count": 11,
     "metadata": {},
     "output_type": "execute_result"
    }
   ],
   "source": [
    "type([1,2,3.7,'hey'])"
   ]
  },
  {
   "cell_type": "code",
   "execution_count": 12,
   "metadata": {
    "slideshow": {
     "slide_type": "fragment"
    }
   },
   "outputs": [
    {
     "data": {
      "text/plain": [
       "builtin_function_or_method"
      ]
     },
     "execution_count": 12,
     "metadata": {},
     "output_type": "execute_result"
    }
   ],
   "source": [
    "type(abs)"
   ]
  },
  {
   "cell_type": "markdown",
   "metadata": {
    "slideshow": {
     "slide_type": "slide"
    }
   },
   "source": [
    "## Expression, Variable, Value and Object\n",
    "\n",
    "Compared with the concept of *object*, perhaps you're more familiar with the notion of *variables* and *values* in Matlab. With the assignment operators (=), you can assign the *values* to *variables* through expressions in Matlab.\n",
    "\n",
    "*Formally*, similar things happen in Python."
   ]
  },
  {
   "cell_type": "code",
   "execution_count": 13,
   "metadata": {
    "slideshow": {
     "slide_type": "fragment"
    }
   },
   "outputs": [
    {
     "name": "stdout",
     "output_type": "stream",
     "text": [
      "2262027564592\n"
     ]
    },
    {
     "data": {
      "text/plain": [
       "str"
      ]
     },
     "execution_count": 13,
     "metadata": {},
     "output_type": "execute_result"
    }
   ],
   "source": [
    "string = 'python'\n",
    "\n",
    "print(id(string))\n",
    "\n",
    "type(string)"
   ]
  },
  {
   "cell_type": "markdown",
   "metadata": {
    "slideshow": {
     "slide_type": "slide"
    }
   },
   "source": [
    "Below we're going to develop a deep understanding of what happens after executing the expression **variable = value** in Python -- dig deep into your computer memory space!\n",
    "\n",
    "The basic conclusion can be stated as follows: **In Python, variables are just the references to objects.** \n",
    "\n",
    "Instead of saying that we *assign values to variables* in python, perhaps it's more rigorous to say that *we use variables to point toward objects with certain values*.\n",
    "\n",
    "In fact, it is even not the most accurate way to use the word \"variables\". The more appropriate word in Python might be \"names\" or \"identifiers\"."
   ]
  },
  {
   "cell_type": "code",
   "execution_count": 14,
   "metadata": {
    "slideshow": {
     "slide_type": "subslide"
    }
   },
   "outputs": [
    {
     "name": "stdout",
     "output_type": "stream",
     "text": [
      "140720502286192\n",
      "140720502286128\n",
      "140720502286192\n",
      "140720502286128\n",
      "3\n"
     ]
    }
   ],
   "source": [
    "a = 3\n",
    "print(id(a))\n",
    "a = 1\n",
    "print(id(a))\n",
    "a = 3\n",
    "print(id(a))\n",
    "print(id(1))\n",
    "print(a)"
   ]
  },
  {
   "cell_type": "code",
   "execution_count": 15,
   "metadata": {
    "slideshow": {
     "slide_type": "fragment"
    }
   },
   "outputs": [
    {
     "name": "stdout",
     "output_type": "stream",
     "text": [
      "2262059375056\n",
      "2262059374736\n",
      "2262059375216\n",
      "2262059374736\n"
     ]
    }
   ],
   "source": [
    "print(id(537))\n",
    "a = 537 # creating an int object with value 1000, and use variable a as the reference\n",
    "print(id(a))\n",
    "c = 537\n",
    "print(id(c))\n",
    "b = a  # link the SAME object to b\n",
    "print(id(b))"
   ]
  },
  {
   "cell_type": "code",
   "execution_count": 16,
   "metadata": {
    "slideshow": {
     "slide_type": "fragment"
    }
   },
   "outputs": [
    {
     "name": "stdout",
     "output_type": "stream",
     "text": [
      "2262059373008\n",
      "2262059373008\n",
      "140720502286128\n"
     ]
    }
   ],
   "source": [
    "a = 1000 # creating an int object with value 1000, and use variable a as the reference\n",
    "print(id(a))\n",
    "b = a # link the SAME object to b -- now a and b refers to exactly the same object !\n",
    "print(id(b))\n",
    "b = 1 # creating a new int object with value 1, and use variable b as the reference\n",
    "print(id(b))"
   ]
  },
  {
   "cell_type": "markdown",
   "metadata": {},
   "source": [
    "The rules for immutable objects are slightly different for large integers and for floating point numbers. In 2 of the 3 following examples, you will notice the same immutable object occupying multiple memory addresses.\n",
    "\n",
    "If a memory address can no longer be referenced, sometimes Python will clear that memory address. Without this, it would be possible to fill the memory by assigning too many variables.\n",
    "\n",
    "This is why `print(id(1000))` does not match `print(id(a))` in the above. This is also why the memory addresses can change when we rerun a cell."
   ]
  },
  {
   "cell_type": "code",
   "execution_count": 17,
   "metadata": {},
   "outputs": [
    {
     "name": "stdout",
     "output_type": "stream",
     "text": [
      "140720502294288\n",
      "140720502294288\n",
      "140720502294288\n",
      "140720502294288\n"
     ]
    }
   ],
   "source": [
    "print(id(256))\n",
    "a = 256 # memory rules for small integers\n",
    "print(id(a))\n",
    "c = 256\n",
    "print(id(c))\n",
    "b = a  # link the SAME object to b\n",
    "print(id(b))"
   ]
  },
  {
   "cell_type": "code",
   "execution_count": 18,
   "metadata": {},
   "outputs": [
    {
     "name": "stdout",
     "output_type": "stream",
     "text": [
      "2262059374736\n",
      "2262059373392\n",
      "2262059374128\n",
      "2262059373392\n"
     ]
    }
   ],
   "source": [
    "print(id(257))\n",
    "a = 257 # memory rules for large integers\n",
    "print(id(a))\n",
    "c = 257\n",
    "print(id(c)) #Two versions of an immutable object, at two memory addresses\n",
    "b = a  # link the SAME object to b\n",
    "print(id(b))"
   ]
  },
  {
   "cell_type": "code",
   "execution_count": 19,
   "metadata": {},
   "outputs": [
    {
     "name": "stdout",
     "output_type": "stream",
     "text": [
      "2262059374352\n",
      "2262059374256\n",
      "2262059374544\n",
      "2262059374256\n"
     ]
    }
   ],
   "source": [
    "print(id(2.1))\n",
    "a = 2.1 # memory rules for floating point numbers\n",
    "print(id(a))\n",
    "c = 2.1\n",
    "print(id(c)) #Two versions of an immutable object, at two memory addresses\n",
    "b = a  # link the SAME object to b\n",
    "print(id(b))"
   ]
  },
  {
   "cell_type": "code",
   "execution_count": 20,
   "metadata": {},
   "outputs": [
    {
     "name": "stdout",
     "output_type": "stream",
     "text": [
      "2262059581232\n",
      "2262059643056\n",
      "2262059643312\n",
      "2262059643056\n"
     ]
    }
   ],
   "source": [
    "print(id(\"you wrote a long sentence. loooooooooooooooooooooooooooooooooooooooooooooooong\"))\n",
    "a = \"you wrote a long sentence. loooooooooooooooooooooooooooooooooooooooooooooooong\" \n",
    "# memory rules for strings are similar to integers. Compare l\n",
    "print(id(a))\n",
    "c = \"you wrote a long sentence. loooooooooooooooooooooooooooooooooooooooooooooooong\"\n",
    "print(id(c)) #Two versions of an immutable object, at two memory addresses\n",
    "b = a  # link the SAME object to b\n",
    "print(id(b))"
   ]
  }
 ],
 "metadata": {
  "kernelspec": {
   "display_name": "Python 3",
   "language": "python",
   "name": "python3"
  },
  "language_info": {
   "codemirror_mode": {
    "name": "ipython",
    "version": 3
   },
   "file_extension": ".py",
   "mimetype": "text/x-python",
   "name": "python",
   "nbconvert_exporter": "python",
   "pygments_lexer": "ipython3",
   "version": "3.8.8"
  }
 },
 "nbformat": 4,
 "nbformat_minor": 4
}
