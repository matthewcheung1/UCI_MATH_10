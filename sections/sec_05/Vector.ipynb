{
 "cells": [
  {
   "cell_type": "code",
   "execution_count": 1,
   "metadata": {},
   "outputs": [],
   "source": [
    "class VectorV5:\n",
    "    '''define the vector'''  # this is the document string\n",
    "    dim = 2   # this is the attribute\n",
    "    \n",
    "    def __init__(self, x=0.0, y=0.0):  # any method in Class requires the first parameter to be self!\n",
    "        '''initialize the vector by providing x and y coordinate'''\n",
    "        self.x = x\n",
    "        self.y = y\n",
    "        \n",
    "    def norm(self): \n",
    "        '''calculate the norm of vector'''\n",
    "        return math.sqrt(self.x**2+self.y**2)\n",
    "    \n",
    "    def __add__(self, other):\n",
    "        '''calculate the vector sum of two vectors'''\n",
    "        return VectorV5(self.x + other.x, self.y + other.y)\n",
    "    \n",
    "    def __repr__(self):   #special method of string representation\n",
    "        '''display the coordinates of the vector'''\n",
    "        return 'Vector(%r, %r)' % (self.x, self.y)\n",
    "    \n",
    "    def __mul__(self, scalar):\n",
    "        '''calculate the scalar product'''\n",
    "        return VectorV5(self.x * scalar, self.y * scalar)\n",
    "\n",
    "string = 'Python'\n",
    "\n",
    "def print_hello():\n",
    "    print(\"Hello\")"
   ]
  }
 ],
 "metadata": {
  "kernelspec": {
   "display_name": "Python 3",
   "language": "python",
   "name": "python3"
  },
  "language_info": {
   "codemirror_mode": {
    "name": "ipython",
    "version": 3
   },
   "file_extension": ".py",
   "mimetype": "text/x-python",
   "name": "python",
   "nbconvert_exporter": "python",
   "pygments_lexer": "ipython3",
   "version": "3.7.6"
  }
 },
 "nbformat": 4,
 "nbformat_minor": 4
}
